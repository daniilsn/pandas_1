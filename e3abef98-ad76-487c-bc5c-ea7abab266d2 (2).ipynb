{
 "cells": [
  {
   "cell_type": "markdown",
   "id": "15c8b9ee",
   "metadata": {},
   "source": [
    "# Исследование надежности заемщиков."
   ]
  },
  {
   "cell_type": "markdown",
   "id": "e314dd11",
   "metadata": {},
   "source": [
    "Заказчик — кредитный отдел банка. Нужно разобраться, влияет ли семейное положение и количество детей клиента на факт погашения кредита в срок. Входные данные от банка — статистика о платёжеспособности клиентов.\n",
    "\n",
    "Результаты исследования будут учтены при построении модели *кредитного скоринга* — специальной системы, которая оценивает способность потенциального заёмщика вернуть кредит банку."
   ]
  },
  {
   "cell_type": "markdown",
   "id": "5472a8e3",
   "metadata": {},
   "source": [
    "### Шаг 1. Обзор данных"
   ]
  },
  {
   "cell_type": "code",
   "execution_count": 92,
   "id": "66269da4",
   "metadata": {},
   "outputs": [],
   "source": [
    "#Импорт библиотек\n",
    "import pandas as pd\n"
   ]
  },
  {
   "cell_type": "code",
   "execution_count": 93,
   "id": "24f19773",
   "metadata": {
    "scrolled": true
   },
   "outputs": [
    {
     "data": {
      "text/html": [
       "<div>\n",
       "<style scoped>\n",
       "    .dataframe tbody tr th:only-of-type {\n",
       "        vertical-align: middle;\n",
       "    }\n",
       "\n",
       "    .dataframe tbody tr th {\n",
       "        vertical-align: top;\n",
       "    }\n",
       "\n",
       "    .dataframe thead th {\n",
       "        text-align: right;\n",
       "    }\n",
       "</style>\n",
       "<table border=\"1\" class=\"dataframe\">\n",
       "  <thead>\n",
       "    <tr style=\"text-align: right;\">\n",
       "      <th></th>\n",
       "      <th>children</th>\n",
       "      <th>days_employed</th>\n",
       "      <th>dob_years</th>\n",
       "      <th>education</th>\n",
       "      <th>education_id</th>\n",
       "      <th>family_status</th>\n",
       "      <th>family_status_id</th>\n",
       "      <th>gender</th>\n",
       "      <th>income_type</th>\n",
       "      <th>debt</th>\n",
       "      <th>total_income</th>\n",
       "      <th>purpose</th>\n",
       "    </tr>\n",
       "  </thead>\n",
       "  <tbody>\n",
       "    <tr>\n",
       "      <th>0</th>\n",
       "      <td>1</td>\n",
       "      <td>-8437.673028</td>\n",
       "      <td>42</td>\n",
       "      <td>высшее</td>\n",
       "      <td>0</td>\n",
       "      <td>женат / замужем</td>\n",
       "      <td>0</td>\n",
       "      <td>F</td>\n",
       "      <td>сотрудник</td>\n",
       "      <td>0</td>\n",
       "      <td>253875.639453</td>\n",
       "      <td>покупка жилья</td>\n",
       "    </tr>\n",
       "    <tr>\n",
       "      <th>1</th>\n",
       "      <td>1</td>\n",
       "      <td>-4024.803754</td>\n",
       "      <td>36</td>\n",
       "      <td>среднее</td>\n",
       "      <td>1</td>\n",
       "      <td>женат / замужем</td>\n",
       "      <td>0</td>\n",
       "      <td>F</td>\n",
       "      <td>сотрудник</td>\n",
       "      <td>0</td>\n",
       "      <td>112080.014102</td>\n",
       "      <td>приобретение автомобиля</td>\n",
       "    </tr>\n",
       "    <tr>\n",
       "      <th>2</th>\n",
       "      <td>0</td>\n",
       "      <td>-5623.422610</td>\n",
       "      <td>33</td>\n",
       "      <td>Среднее</td>\n",
       "      <td>1</td>\n",
       "      <td>женат / замужем</td>\n",
       "      <td>0</td>\n",
       "      <td>M</td>\n",
       "      <td>сотрудник</td>\n",
       "      <td>0</td>\n",
       "      <td>145885.952297</td>\n",
       "      <td>покупка жилья</td>\n",
       "    </tr>\n",
       "    <tr>\n",
       "      <th>3</th>\n",
       "      <td>3</td>\n",
       "      <td>-4124.747207</td>\n",
       "      <td>32</td>\n",
       "      <td>среднее</td>\n",
       "      <td>1</td>\n",
       "      <td>женат / замужем</td>\n",
       "      <td>0</td>\n",
       "      <td>M</td>\n",
       "      <td>сотрудник</td>\n",
       "      <td>0</td>\n",
       "      <td>267628.550329</td>\n",
       "      <td>дополнительное образование</td>\n",
       "    </tr>\n",
       "    <tr>\n",
       "      <th>4</th>\n",
       "      <td>0</td>\n",
       "      <td>340266.072047</td>\n",
       "      <td>53</td>\n",
       "      <td>среднее</td>\n",
       "      <td>1</td>\n",
       "      <td>гражданский брак</td>\n",
       "      <td>1</td>\n",
       "      <td>F</td>\n",
       "      <td>пенсионер</td>\n",
       "      <td>0</td>\n",
       "      <td>158616.077870</td>\n",
       "      <td>сыграть свадьбу</td>\n",
       "    </tr>\n",
       "    <tr>\n",
       "      <th>5</th>\n",
       "      <td>0</td>\n",
       "      <td>-926.185831</td>\n",
       "      <td>27</td>\n",
       "      <td>высшее</td>\n",
       "      <td>0</td>\n",
       "      <td>гражданский брак</td>\n",
       "      <td>1</td>\n",
       "      <td>M</td>\n",
       "      <td>компаньон</td>\n",
       "      <td>0</td>\n",
       "      <td>255763.565419</td>\n",
       "      <td>покупка жилья</td>\n",
       "    </tr>\n",
       "    <tr>\n",
       "      <th>6</th>\n",
       "      <td>0</td>\n",
       "      <td>-2879.202052</td>\n",
       "      <td>43</td>\n",
       "      <td>высшее</td>\n",
       "      <td>0</td>\n",
       "      <td>женат / замужем</td>\n",
       "      <td>0</td>\n",
       "      <td>F</td>\n",
       "      <td>компаньон</td>\n",
       "      <td>0</td>\n",
       "      <td>240525.971920</td>\n",
       "      <td>операции с жильем</td>\n",
       "    </tr>\n",
       "    <tr>\n",
       "      <th>7</th>\n",
       "      <td>0</td>\n",
       "      <td>-152.779569</td>\n",
       "      <td>50</td>\n",
       "      <td>СРЕДНЕЕ</td>\n",
       "      <td>1</td>\n",
       "      <td>женат / замужем</td>\n",
       "      <td>0</td>\n",
       "      <td>M</td>\n",
       "      <td>сотрудник</td>\n",
       "      <td>0</td>\n",
       "      <td>135823.934197</td>\n",
       "      <td>образование</td>\n",
       "    </tr>\n",
       "    <tr>\n",
       "      <th>8</th>\n",
       "      <td>2</td>\n",
       "      <td>-6929.865299</td>\n",
       "      <td>35</td>\n",
       "      <td>ВЫСШЕЕ</td>\n",
       "      <td>0</td>\n",
       "      <td>гражданский брак</td>\n",
       "      <td>1</td>\n",
       "      <td>F</td>\n",
       "      <td>сотрудник</td>\n",
       "      <td>0</td>\n",
       "      <td>95856.832424</td>\n",
       "      <td>на проведение свадьбы</td>\n",
       "    </tr>\n",
       "    <tr>\n",
       "      <th>9</th>\n",
       "      <td>0</td>\n",
       "      <td>-2188.756445</td>\n",
       "      <td>41</td>\n",
       "      <td>среднее</td>\n",
       "      <td>1</td>\n",
       "      <td>женат / замужем</td>\n",
       "      <td>0</td>\n",
       "      <td>M</td>\n",
       "      <td>сотрудник</td>\n",
       "      <td>0</td>\n",
       "      <td>144425.938277</td>\n",
       "      <td>покупка жилья для семьи</td>\n",
       "    </tr>\n",
       "  </tbody>\n",
       "</table>\n",
       "</div>"
      ],
      "text/plain": [
       "   children  days_employed  dob_years education  education_id  \\\n",
       "0         1   -8437.673028         42    высшее             0   \n",
       "1         1   -4024.803754         36   среднее             1   \n",
       "2         0   -5623.422610         33   Среднее             1   \n",
       "3         3   -4124.747207         32   среднее             1   \n",
       "4         0  340266.072047         53   среднее             1   \n",
       "5         0    -926.185831         27    высшее             0   \n",
       "6         0   -2879.202052         43    высшее             0   \n",
       "7         0    -152.779569         50   СРЕДНЕЕ             1   \n",
       "8         2   -6929.865299         35    ВЫСШЕЕ             0   \n",
       "9         0   -2188.756445         41   среднее             1   \n",
       "\n",
       "      family_status  family_status_id gender income_type  debt   total_income  \\\n",
       "0   женат / замужем                 0      F   сотрудник     0  253875.639453   \n",
       "1   женат / замужем                 0      F   сотрудник     0  112080.014102   \n",
       "2   женат / замужем                 0      M   сотрудник     0  145885.952297   \n",
       "3   женат / замужем                 0      M   сотрудник     0  267628.550329   \n",
       "4  гражданский брак                 1      F   пенсионер     0  158616.077870   \n",
       "5  гражданский брак                 1      M   компаньон     0  255763.565419   \n",
       "6   женат / замужем                 0      F   компаньон     0  240525.971920   \n",
       "7   женат / замужем                 0      M   сотрудник     0  135823.934197   \n",
       "8  гражданский брак                 1      F   сотрудник     0   95856.832424   \n",
       "9   женат / замужем                 0      M   сотрудник     0  144425.938277   \n",
       "\n",
       "                      purpose  \n",
       "0               покупка жилья  \n",
       "1     приобретение автомобиля  \n",
       "2               покупка жилья  \n",
       "3  дополнительное образование  \n",
       "4             сыграть свадьбу  \n",
       "5               покупка жилья  \n",
       "6           операции с жильем  \n",
       "7                 образование  \n",
       "8       на проведение свадьбы  \n",
       "9     покупка жилья для семьи  "
      ]
     },
     "execution_count": 93,
     "metadata": {},
     "output_type": "execute_result"
    }
   ],
   "source": [
    "#Прочитаем файл и сохраним данные в переменной df.\n",
    "df = pd.read_csv('/datasets/data.csv')\n",
    "df.head(10)\n"
   ]
  },
  {
   "cell_type": "code",
   "execution_count": 94,
   "id": "c17a4ec8",
   "metadata": {},
   "outputs": [
    {
     "data": {
      "text/html": [
       "<div>\n",
       "<style scoped>\n",
       "    .dataframe tbody tr th:only-of-type {\n",
       "        vertical-align: middle;\n",
       "    }\n",
       "\n",
       "    .dataframe tbody tr th {\n",
       "        vertical-align: top;\n",
       "    }\n",
       "\n",
       "    .dataframe thead th {\n",
       "        text-align: right;\n",
       "    }\n",
       "</style>\n",
       "<table border=\"1\" class=\"dataframe\">\n",
       "  <thead>\n",
       "    <tr style=\"text-align: right;\">\n",
       "      <th></th>\n",
       "      <th>children</th>\n",
       "      <th>days_employed</th>\n",
       "      <th>dob_years</th>\n",
       "      <th>education</th>\n",
       "      <th>education_id</th>\n",
       "      <th>family_status</th>\n",
       "      <th>family_status_id</th>\n",
       "      <th>gender</th>\n",
       "      <th>income_type</th>\n",
       "      <th>debt</th>\n",
       "      <th>total_income</th>\n",
       "      <th>purpose</th>\n",
       "    </tr>\n",
       "  </thead>\n",
       "  <tbody>\n",
       "    <tr>\n",
       "      <th>21515</th>\n",
       "      <td>1</td>\n",
       "      <td>-467.685130</td>\n",
       "      <td>28</td>\n",
       "      <td>среднее</td>\n",
       "      <td>1</td>\n",
       "      <td>женат / замужем</td>\n",
       "      <td>0</td>\n",
       "      <td>F</td>\n",
       "      <td>сотрудник</td>\n",
       "      <td>1</td>\n",
       "      <td>109486.327999</td>\n",
       "      <td>заняться образованием</td>\n",
       "    </tr>\n",
       "    <tr>\n",
       "      <th>21516</th>\n",
       "      <td>0</td>\n",
       "      <td>-914.391429</td>\n",
       "      <td>42</td>\n",
       "      <td>высшее</td>\n",
       "      <td>0</td>\n",
       "      <td>женат / замужем</td>\n",
       "      <td>0</td>\n",
       "      <td>F</td>\n",
       "      <td>компаньон</td>\n",
       "      <td>0</td>\n",
       "      <td>322807.776603</td>\n",
       "      <td>покупка своего жилья</td>\n",
       "    </tr>\n",
       "    <tr>\n",
       "      <th>21517</th>\n",
       "      <td>0</td>\n",
       "      <td>-404.679034</td>\n",
       "      <td>42</td>\n",
       "      <td>высшее</td>\n",
       "      <td>0</td>\n",
       "      <td>гражданский брак</td>\n",
       "      <td>1</td>\n",
       "      <td>F</td>\n",
       "      <td>компаньон</td>\n",
       "      <td>0</td>\n",
       "      <td>178059.553491</td>\n",
       "      <td>на покупку своего автомобиля</td>\n",
       "    </tr>\n",
       "    <tr>\n",
       "      <th>21518</th>\n",
       "      <td>0</td>\n",
       "      <td>373995.710838</td>\n",
       "      <td>59</td>\n",
       "      <td>СРЕДНЕЕ</td>\n",
       "      <td>1</td>\n",
       "      <td>женат / замужем</td>\n",
       "      <td>0</td>\n",
       "      <td>F</td>\n",
       "      <td>пенсионер</td>\n",
       "      <td>0</td>\n",
       "      <td>153864.650328</td>\n",
       "      <td>сделка с автомобилем</td>\n",
       "    </tr>\n",
       "    <tr>\n",
       "      <th>21519</th>\n",
       "      <td>1</td>\n",
       "      <td>-2351.431934</td>\n",
       "      <td>37</td>\n",
       "      <td>ученая степень</td>\n",
       "      <td>4</td>\n",
       "      <td>в разводе</td>\n",
       "      <td>3</td>\n",
       "      <td>M</td>\n",
       "      <td>сотрудник</td>\n",
       "      <td>0</td>\n",
       "      <td>115949.039788</td>\n",
       "      <td>покупка коммерческой недвижимости</td>\n",
       "    </tr>\n",
       "    <tr>\n",
       "      <th>21520</th>\n",
       "      <td>1</td>\n",
       "      <td>-4529.316663</td>\n",
       "      <td>43</td>\n",
       "      <td>среднее</td>\n",
       "      <td>1</td>\n",
       "      <td>гражданский брак</td>\n",
       "      <td>1</td>\n",
       "      <td>F</td>\n",
       "      <td>компаньон</td>\n",
       "      <td>0</td>\n",
       "      <td>224791.862382</td>\n",
       "      <td>операции с жильем</td>\n",
       "    </tr>\n",
       "    <tr>\n",
       "      <th>21521</th>\n",
       "      <td>0</td>\n",
       "      <td>343937.404131</td>\n",
       "      <td>67</td>\n",
       "      <td>среднее</td>\n",
       "      <td>1</td>\n",
       "      <td>женат / замужем</td>\n",
       "      <td>0</td>\n",
       "      <td>F</td>\n",
       "      <td>пенсионер</td>\n",
       "      <td>0</td>\n",
       "      <td>155999.806512</td>\n",
       "      <td>сделка с автомобилем</td>\n",
       "    </tr>\n",
       "    <tr>\n",
       "      <th>21522</th>\n",
       "      <td>1</td>\n",
       "      <td>-2113.346888</td>\n",
       "      <td>38</td>\n",
       "      <td>среднее</td>\n",
       "      <td>1</td>\n",
       "      <td>гражданский брак</td>\n",
       "      <td>1</td>\n",
       "      <td>M</td>\n",
       "      <td>сотрудник</td>\n",
       "      <td>1</td>\n",
       "      <td>89672.561153</td>\n",
       "      <td>недвижимость</td>\n",
       "    </tr>\n",
       "    <tr>\n",
       "      <th>21523</th>\n",
       "      <td>3</td>\n",
       "      <td>-3112.481705</td>\n",
       "      <td>38</td>\n",
       "      <td>среднее</td>\n",
       "      <td>1</td>\n",
       "      <td>женат / замужем</td>\n",
       "      <td>0</td>\n",
       "      <td>M</td>\n",
       "      <td>сотрудник</td>\n",
       "      <td>1</td>\n",
       "      <td>244093.050500</td>\n",
       "      <td>на покупку своего автомобиля</td>\n",
       "    </tr>\n",
       "    <tr>\n",
       "      <th>21524</th>\n",
       "      <td>2</td>\n",
       "      <td>-1984.507589</td>\n",
       "      <td>40</td>\n",
       "      <td>среднее</td>\n",
       "      <td>1</td>\n",
       "      <td>женат / замужем</td>\n",
       "      <td>0</td>\n",
       "      <td>F</td>\n",
       "      <td>сотрудник</td>\n",
       "      <td>0</td>\n",
       "      <td>82047.418899</td>\n",
       "      <td>на покупку автомобиля</td>\n",
       "    </tr>\n",
       "  </tbody>\n",
       "</table>\n",
       "</div>"
      ],
      "text/plain": [
       "       children  days_employed  dob_years       education  education_id  \\\n",
       "21515         1    -467.685130         28         среднее             1   \n",
       "21516         0    -914.391429         42          высшее             0   \n",
       "21517         0    -404.679034         42          высшее             0   \n",
       "21518         0  373995.710838         59         СРЕДНЕЕ             1   \n",
       "21519         1   -2351.431934         37  ученая степень             4   \n",
       "21520         1   -4529.316663         43         среднее             1   \n",
       "21521         0  343937.404131         67         среднее             1   \n",
       "21522         1   -2113.346888         38         среднее             1   \n",
       "21523         3   -3112.481705         38         среднее             1   \n",
       "21524         2   -1984.507589         40         среднее             1   \n",
       "\n",
       "          family_status  family_status_id gender income_type  debt  \\\n",
       "21515   женат / замужем                 0      F   сотрудник     1   \n",
       "21516   женат / замужем                 0      F   компаньон     0   \n",
       "21517  гражданский брак                 1      F   компаньон     0   \n",
       "21518   женат / замужем                 0      F   пенсионер     0   \n",
       "21519         в разводе                 3      M   сотрудник     0   \n",
       "21520  гражданский брак                 1      F   компаньон     0   \n",
       "21521   женат / замужем                 0      F   пенсионер     0   \n",
       "21522  гражданский брак                 1      M   сотрудник     1   \n",
       "21523   женат / замужем                 0      M   сотрудник     1   \n",
       "21524   женат / замужем                 0      F   сотрудник     0   \n",
       "\n",
       "        total_income                            purpose  \n",
       "21515  109486.327999              заняться образованием  \n",
       "21516  322807.776603               покупка своего жилья  \n",
       "21517  178059.553491       на покупку своего автомобиля  \n",
       "21518  153864.650328               сделка с автомобилем  \n",
       "21519  115949.039788  покупка коммерческой недвижимости  \n",
       "21520  224791.862382                  операции с жильем  \n",
       "21521  155999.806512               сделка с автомобилем  \n",
       "21522   89672.561153                       недвижимость  \n",
       "21523  244093.050500       на покупку своего автомобиля  \n",
       "21524   82047.418899              на покупку автомобиля  "
      ]
     },
     "execution_count": 94,
     "metadata": {},
     "output_type": "execute_result"
    }
   ],
   "source": [
    "df.tail(10)"
   ]
  },
  {
   "cell_type": "markdown",
   "id": "1c05a36c",
   "metadata": {},
   "source": [
    "Описание данных:\n",
    "- children — количество детей в семье\n",
    "- days_employed — общий трудовой стаж в днях\n",
    "- dob_years — возраст клиента в годах\n",
    "- education — уровень образования клиента\n",
    "- education_id — идентификатор уровня образования\n",
    "- family_status — семейное положение\n",
    "- family_status_id — идентификатор семейного положения\n",
    "- gender — пол клиента\n",
    "- income_type — тип занятости\n",
    "- debt — имел ли задолженность по возврату кредитов\n",
    "- total_income — ежемесячный доход\n",
    "- purpose — цель получения кредита"
   ]
  },
  {
   "cell_type": "code",
   "execution_count": 95,
   "id": "b56ed4a3",
   "metadata": {},
   "outputs": [
    {
     "name": "stdout",
     "output_type": "stream",
     "text": [
      "<class 'pandas.core.frame.DataFrame'>\n",
      "RangeIndex: 21525 entries, 0 to 21524\n",
      "Data columns (total 12 columns):\n",
      " #   Column            Non-Null Count  Dtype  \n",
      "---  ------            --------------  -----  \n",
      " 0   children          21525 non-null  int64  \n",
      " 1   days_employed     19351 non-null  float64\n",
      " 2   dob_years         21525 non-null  int64  \n",
      " 3   education         21525 non-null  object \n",
      " 4   education_id      21525 non-null  int64  \n",
      " 5   family_status     21525 non-null  object \n",
      " 6   family_status_id  21525 non-null  int64  \n",
      " 7   gender            21525 non-null  object \n",
      " 8   income_type       21525 non-null  object \n",
      " 9   debt              21525 non-null  int64  \n",
      " 10  total_income      19351 non-null  float64\n",
      " 11  purpose           21525 non-null  object \n",
      "dtypes: float64(2), int64(5), object(5)\n",
      "memory usage: 2.0+ MB\n"
     ]
    }
   ],
   "source": [
    "#Посмотрим общую информацию о датафрейме\n",
    "df.info()"
   ]
  },
  {
   "cell_type": "code",
   "execution_count": 96,
   "id": "35778669",
   "metadata": {},
   "outputs": [
    {
     "data": {
      "text/html": [
       "<div>\n",
       "<style scoped>\n",
       "    .dataframe tbody tr th:only-of-type {\n",
       "        vertical-align: middle;\n",
       "    }\n",
       "\n",
       "    .dataframe tbody tr th {\n",
       "        vertical-align: top;\n",
       "    }\n",
       "\n",
       "    .dataframe thead th {\n",
       "        text-align: right;\n",
       "    }\n",
       "</style>\n",
       "<table border=\"1\" class=\"dataframe\">\n",
       "  <thead>\n",
       "    <tr style=\"text-align: right;\">\n",
       "      <th></th>\n",
       "      <th>children</th>\n",
       "      <th>days_employed</th>\n",
       "      <th>dob_years</th>\n",
       "      <th>education_id</th>\n",
       "      <th>family_status_id</th>\n",
       "      <th>debt</th>\n",
       "      <th>total_income</th>\n",
       "    </tr>\n",
       "  </thead>\n",
       "  <tbody>\n",
       "    <tr>\n",
       "      <th>count</th>\n",
       "      <td>21525.000000</td>\n",
       "      <td>19351.000000</td>\n",
       "      <td>21525.000000</td>\n",
       "      <td>21525.000000</td>\n",
       "      <td>21525.000000</td>\n",
       "      <td>21525.000000</td>\n",
       "      <td>1.935100e+04</td>\n",
       "    </tr>\n",
       "    <tr>\n",
       "      <th>mean</th>\n",
       "      <td>0.538908</td>\n",
       "      <td>63046.497661</td>\n",
       "      <td>43.293380</td>\n",
       "      <td>0.817236</td>\n",
       "      <td>0.972544</td>\n",
       "      <td>0.080883</td>\n",
       "      <td>1.674223e+05</td>\n",
       "    </tr>\n",
       "    <tr>\n",
       "      <th>std</th>\n",
       "      <td>1.381587</td>\n",
       "      <td>140827.311974</td>\n",
       "      <td>12.574584</td>\n",
       "      <td>0.548138</td>\n",
       "      <td>1.420324</td>\n",
       "      <td>0.272661</td>\n",
       "      <td>1.029716e+05</td>\n",
       "    </tr>\n",
       "    <tr>\n",
       "      <th>min</th>\n",
       "      <td>-1.000000</td>\n",
       "      <td>-18388.949901</td>\n",
       "      <td>0.000000</td>\n",
       "      <td>0.000000</td>\n",
       "      <td>0.000000</td>\n",
       "      <td>0.000000</td>\n",
       "      <td>2.066726e+04</td>\n",
       "    </tr>\n",
       "    <tr>\n",
       "      <th>25%</th>\n",
       "      <td>0.000000</td>\n",
       "      <td>-2747.423625</td>\n",
       "      <td>33.000000</td>\n",
       "      <td>1.000000</td>\n",
       "      <td>0.000000</td>\n",
       "      <td>0.000000</td>\n",
       "      <td>1.030532e+05</td>\n",
       "    </tr>\n",
       "    <tr>\n",
       "      <th>50%</th>\n",
       "      <td>0.000000</td>\n",
       "      <td>-1203.369529</td>\n",
       "      <td>42.000000</td>\n",
       "      <td>1.000000</td>\n",
       "      <td>0.000000</td>\n",
       "      <td>0.000000</td>\n",
       "      <td>1.450179e+05</td>\n",
       "    </tr>\n",
       "    <tr>\n",
       "      <th>75%</th>\n",
       "      <td>1.000000</td>\n",
       "      <td>-291.095954</td>\n",
       "      <td>53.000000</td>\n",
       "      <td>1.000000</td>\n",
       "      <td>1.000000</td>\n",
       "      <td>0.000000</td>\n",
       "      <td>2.034351e+05</td>\n",
       "    </tr>\n",
       "    <tr>\n",
       "      <th>max</th>\n",
       "      <td>20.000000</td>\n",
       "      <td>401755.400475</td>\n",
       "      <td>75.000000</td>\n",
       "      <td>4.000000</td>\n",
       "      <td>4.000000</td>\n",
       "      <td>1.000000</td>\n",
       "      <td>2.265604e+06</td>\n",
       "    </tr>\n",
       "  </tbody>\n",
       "</table>\n",
       "</div>"
      ],
      "text/plain": [
       "           children  days_employed     dob_years  education_id  \\\n",
       "count  21525.000000   19351.000000  21525.000000  21525.000000   \n",
       "mean       0.538908   63046.497661     43.293380      0.817236   \n",
       "std        1.381587  140827.311974     12.574584      0.548138   \n",
       "min       -1.000000  -18388.949901      0.000000      0.000000   \n",
       "25%        0.000000   -2747.423625     33.000000      1.000000   \n",
       "50%        0.000000   -1203.369529     42.000000      1.000000   \n",
       "75%        1.000000    -291.095954     53.000000      1.000000   \n",
       "max       20.000000  401755.400475     75.000000      4.000000   \n",
       "\n",
       "       family_status_id          debt  total_income  \n",
       "count      21525.000000  21525.000000  1.935100e+04  \n",
       "mean           0.972544      0.080883  1.674223e+05  \n",
       "std            1.420324      0.272661  1.029716e+05  \n",
       "min            0.000000      0.000000  2.066726e+04  \n",
       "25%            0.000000      0.000000  1.030532e+05  \n",
       "50%            0.000000      0.000000  1.450179e+05  \n",
       "75%            1.000000      0.000000  2.034351e+05  \n",
       "max            4.000000      1.000000  2.265604e+06  "
      ]
     },
     "execution_count": 96,
     "metadata": {},
     "output_type": "execute_result"
    }
   ],
   "source": [
    "df.describe()"
   ]
  },
  {
   "cell_type": "markdown",
   "id": "c416e655",
   "metadata": {},
   "source": [
    "### Шаг 2.1 Заполнение пропусков"
   ]
  },
  {
   "cell_type": "markdown",
   "id": "6caf7670",
   "metadata": {},
   "source": [
    "Подсчитаем, сколько в таблице пропущенных значений."
   ]
  },
  {
   "cell_type": "code",
   "execution_count": 97,
   "id": "030147a0",
   "metadata": {},
   "outputs": [
    {
     "data": {
      "text/plain": [
       "children               0\n",
       "days_employed       2174\n",
       "dob_years              0\n",
       "education              0\n",
       "education_id           0\n",
       "family_status          0\n",
       "family_status_id       0\n",
       "gender                 0\n",
       "income_type            0\n",
       "debt                   0\n",
       "total_income        2174\n",
       "purpose                0\n",
       "dtype: int64"
      ]
     },
     "execution_count": 97,
     "metadata": {},
     "output_type": "execute_result"
    }
   ],
   "source": [
    "df.isna().sum()"
   ]
  },
  {
   "cell_type": "markdown",
   "id": "afa712e3",
   "metadata": {},
   "source": [
    "В двух столбцах есть пропущенные значения, а именно в:\n",
    "- days_employed\n",
    "- total_income\n"
   ]
  },
  {
   "cell_type": "code",
   "execution_count": 98,
   "id": "6adb0c1c",
   "metadata": {},
   "outputs": [
    {
     "name": "stdout",
     "output_type": "stream",
     "text": [
      "11.234561521368406\n",
      "11.234561521368406\n"
     ]
    }
   ],
   "source": [
    "#Проверим, какую долю оставляют пропущенные значения в каждом из столбцов с пропусками\n",
    "print(2174/df['days_employed'].count()*100)\n",
    "print(2174/df['total_income'].count()*100)"
   ]
  },
  {
   "cell_type": "markdown",
   "id": "48f6ce53",
   "metadata": {},
   "source": [
    "В каждом из столбцов с пропусками доля пропущенных значений составляет 11%"
   ]
  },
  {
   "cell_type": "markdown",
   "id": "28b8c72d",
   "metadata": {},
   "source": [
    "Среди возможных причин отсутствия данных в этих столбцах являются:\n",
    "- Отсутствие работы, а соответсвенно и общего трудового стажа и ежемесячного дохода\n",
    "- Отсутствие самих данных от клиентов\n",
    "- Человеческий фактор или технические неполадки при заполнении базы данных.\n"
   ]
  },
  {
   "cell_type": "markdown",
   "id": "dbb65517",
   "metadata": {},
   "source": [
    "Для замены пропущенных значений мы будем использовать медиану, так как среднее значение некорректно характеризует данные, когда некоторые значения сильно выделяются среди большинства."
   ]
  },
  {
   "cell_type": "code",
   "execution_count": 99,
   "id": "afdc2f96",
   "metadata": {},
   "outputs": [],
   "source": [
    "days_employed_median = df['days_employed'].median()\n",
    "total_income_median = df['total_income'].median()\n",
    "df['days_employed'] = df['days_employed'].fillna(days_employed_median)\n",
    "df['total_income'] = df['total_income'].fillna(total_income_median) \n"
   ]
  },
  {
   "cell_type": "code",
   "execution_count": 100,
   "id": "2ebc012b",
   "metadata": {},
   "outputs": [
    {
     "data": {
      "text/plain": [
       "children            0\n",
       "days_employed       0\n",
       "dob_years           0\n",
       "education           0\n",
       "education_id        0\n",
       "family_status       0\n",
       "family_status_id    0\n",
       "gender              0\n",
       "income_type         0\n",
       "debt                0\n",
       "total_income        0\n",
       "purpose             0\n",
       "dtype: int64"
      ]
     },
     "execution_count": 100,
     "metadata": {},
     "output_type": "execute_result"
    }
   ],
   "source": [
    "#Проверем таблицу на пропуски ещё раз.\n",
    "df.isna().sum()"
   ]
  },
  {
   "cell_type": "markdown",
   "id": "6b2f2945",
   "metadata": {},
   "source": [
    "Пропусков не осталось."
   ]
  },
  {
   "cell_type": "markdown",
   "id": "1714daf9",
   "metadata": {},
   "source": [
    "### Шаг 2.2 Проверка данных на аномалии и исправления."
   ]
  },
  {
   "cell_type": "markdown",
   "id": "67bcfb13",
   "metadata": {},
   "source": [
    "Проведя анализ таблицы на наличие аномалий и исправлений я заметил:\n",
    "- в столбце **days_employed** есть отрицательное количество дней трудового стажа, а так же явно завышенное количество дней стажа\n",
    "- в столбце **education** используются разный регистр\n",
    "- отрицательное и завышенное значение в столбце **children**"
   ]
  },
  {
   "cell_type": "code",
   "execution_count": 101,
   "id": "94549d0f",
   "metadata": {},
   "outputs": [
    {
     "data": {
      "text/html": [
       "<div>\n",
       "<style scoped>\n",
       "    .dataframe tbody tr th:only-of-type {\n",
       "        vertical-align: middle;\n",
       "    }\n",
       "\n",
       "    .dataframe tbody tr th {\n",
       "        vertical-align: top;\n",
       "    }\n",
       "\n",
       "    .dataframe thead tr th {\n",
       "        text-align: left;\n",
       "    }\n",
       "\n",
       "    .dataframe thead tr:last-of-type th {\n",
       "        text-align: right;\n",
       "    }\n",
       "</style>\n",
       "<table border=\"1\" class=\"dataframe\">\n",
       "  <thead>\n",
       "    <tr>\n",
       "      <th></th>\n",
       "      <th colspan=\"2\" halign=\"left\">days_employed</th>\n",
       "    </tr>\n",
       "    <tr>\n",
       "      <th></th>\n",
       "      <th>count</th>\n",
       "      <th>mean</th>\n",
       "    </tr>\n",
       "    <tr>\n",
       "      <th>income_type</th>\n",
       "      <th></th>\n",
       "      <th></th>\n",
       "    </tr>\n",
       "  </thead>\n",
       "  <tbody>\n",
       "    <tr>\n",
       "      <th>безработный</th>\n",
       "      <td>2</td>\n",
       "      <td>366413.652744</td>\n",
       "    </tr>\n",
       "    <tr>\n",
       "      <th>в декрете</th>\n",
       "      <td>1</td>\n",
       "      <td>-3296.759962</td>\n",
       "    </tr>\n",
       "    <tr>\n",
       "      <th>госслужащий</th>\n",
       "      <td>1459</td>\n",
       "      <td>-3178.588112</td>\n",
       "    </tr>\n",
       "    <tr>\n",
       "      <th>компаньон</th>\n",
       "      <td>5085</td>\n",
       "      <td>-2020.798209</td>\n",
       "    </tr>\n",
       "    <tr>\n",
       "      <th>пенсионер</th>\n",
       "      <td>3856</td>\n",
       "      <td>325780.609113</td>\n",
       "    </tr>\n",
       "    <tr>\n",
       "      <th>предприниматель</th>\n",
       "      <td>2</td>\n",
       "      <td>-862.108806</td>\n",
       "    </tr>\n",
       "    <tr>\n",
       "      <th>сотрудник</th>\n",
       "      <td>11119</td>\n",
       "      <td>-2214.883216</td>\n",
       "    </tr>\n",
       "    <tr>\n",
       "      <th>студент</th>\n",
       "      <td>1</td>\n",
       "      <td>-578.751554</td>\n",
       "    </tr>\n",
       "  </tbody>\n",
       "</table>\n",
       "</div>"
      ],
      "text/plain": [
       "                days_employed               \n",
       "                        count           mean\n",
       "income_type                                 \n",
       "безработный                 2  366413.652744\n",
       "в декрете                   1   -3296.759962\n",
       "госслужащий              1459   -3178.588112\n",
       "компаньон                5085   -2020.798209\n",
       "пенсионер                3856  325780.609113\n",
       "предприниматель             2    -862.108806\n",
       "сотрудник               11119   -2214.883216\n",
       "студент                     1    -578.751554"
      ]
     },
     "execution_count": 101,
     "metadata": {},
     "output_type": "execute_result"
    }
   ],
   "source": [
    "data_grouped = df.groupby('income_type').agg({'days_employed':['count', 'mean']})\n",
    "\n",
    "data_grouped"
   ]
  },
  {
   "cell_type": "markdown",
   "id": "529cb86c",
   "metadata": {},
   "source": [
    "Переведём отрицательные значения в столбце **days_employed** в положительные"
   ]
  },
  {
   "cell_type": "code",
   "execution_count": 102,
   "id": "09c8605b",
   "metadata": {},
   "outputs": [],
   "source": [
    "df['days_employed'] = df['days_employed'].abs()\n"
   ]
  },
  {
   "cell_type": "markdown",
   "id": "2cd722e3",
   "metadata": {},
   "source": [
    "Максимальные значения в столбце отработанных дней являются ошибкой. \n",
    "Для того, что бы исправить эти значения напишем функцию, которая будет искать и заменять эти данные на медиану стажа по данному возрасту"
   ]
  },
  {
   "cell_type": "code",
   "execution_count": 103,
   "id": "bfbff63f",
   "metadata": {},
   "outputs": [],
   "source": [
    "def err_days_employed(row):\n",
    "    if row['days_employed'] > (row['dob_years'] - 16) * 365:\n",
    "        if df[df['dob_years'] == row['dob_years']]['days_employed'].median() < (row['dob_years'] - 16) * 365:\n",
    "            return df[df['dob_years'] == row['dob_years']]['days_employed'].median()\n",
    "        else: \n",
    "            return (row['dob_years'] - 16) * 365\n",
    "    else:\n",
    "        return row['days_employed']\n",
    "df['days_employed'] = df.apply(err_days_employed, axis=1)"
   ]
  },
  {
   "cell_type": "markdown",
   "id": "609bca1d",
   "metadata": {},
   "source": [
    "Приведём значения в столбце **education** к нижнему регистру."
   ]
  },
  {
   "cell_type": "code",
   "execution_count": 104,
   "id": "907f27d9",
   "metadata": {},
   "outputs": [],
   "source": [
    "df['education'] = df['education'].str.lower()"
   ]
  },
  {
   "cell_type": "markdown",
   "id": "c0f3dbcc",
   "metadata": {},
   "source": [
    "Исправим значения в столбце **children**"
   ]
  },
  {
   "cell_type": "code",
   "execution_count": 105,
   "id": "2cd60620",
   "metadata": {},
   "outputs": [],
   "source": [
    "df['children'].value_counts()\n",
    "#В столбце с количеством детей присутствует аномальное значение в -1 и 20\n",
    "# заменим -1 на 1, а 20 заменим на медианное значение, так как мы не знаем точно какое значение хотели внести.\n",
    "df['children'] = df['children'].replace(-1, 1)\n",
    "children_median = df.loc[df.loc[:, 'children'] != 20]['children'].median()\n",
    "df['children'] = df['children'].replace(20, children_median)"
   ]
  },
  {
   "cell_type": "code",
   "execution_count": 106,
   "id": "2f1b0993",
   "metadata": {},
   "outputs": [
    {
     "data": {
      "text/html": [
       "<div>\n",
       "<style scoped>\n",
       "    .dataframe tbody tr th:only-of-type {\n",
       "        vertical-align: middle;\n",
       "    }\n",
       "\n",
       "    .dataframe tbody tr th {\n",
       "        vertical-align: top;\n",
       "    }\n",
       "\n",
       "    .dataframe thead th {\n",
       "        text-align: right;\n",
       "    }\n",
       "</style>\n",
       "<table border=\"1\" class=\"dataframe\">\n",
       "  <thead>\n",
       "    <tr style=\"text-align: right;\">\n",
       "      <th></th>\n",
       "      <th>Кол-во заёмщиков по кол-ву детей</th>\n",
       "    </tr>\n",
       "  </thead>\n",
       "  <tbody>\n",
       "    <tr>\n",
       "      <th>0.0</th>\n",
       "      <td>14225</td>\n",
       "    </tr>\n",
       "    <tr>\n",
       "      <th>1.0</th>\n",
       "      <td>4865</td>\n",
       "    </tr>\n",
       "    <tr>\n",
       "      <th>2.0</th>\n",
       "      <td>2055</td>\n",
       "    </tr>\n",
       "    <tr>\n",
       "      <th>3.0</th>\n",
       "      <td>330</td>\n",
       "    </tr>\n",
       "    <tr>\n",
       "      <th>4.0</th>\n",
       "      <td>41</td>\n",
       "    </tr>\n",
       "    <tr>\n",
       "      <th>5.0</th>\n",
       "      <td>9</td>\n",
       "    </tr>\n",
       "  </tbody>\n",
       "</table>\n",
       "</div>"
      ],
      "text/plain": [
       "     Кол-во заёмщиков по кол-ву детей\n",
       "0.0                             14225\n",
       "1.0                              4865\n",
       "2.0                              2055\n",
       "3.0                               330\n",
       "4.0                                41\n",
       "5.0                                 9"
      ]
     },
     "execution_count": 106,
     "metadata": {},
     "output_type": "execute_result"
    }
   ],
   "source": [
    "pd.DataFrame({'Кол-во заёмщиков по кол-ву детей':df['children'].value_counts()})"
   ]
  },
  {
   "cell_type": "markdown",
   "id": "354f923a",
   "metadata": {},
   "source": [
    "### Шаг 2.3. Изменение типов данных."
   ]
  },
  {
   "cell_type": "markdown",
   "id": "d451beff",
   "metadata": {},
   "source": [
    "Заменим вещественный тип данных в столбце **total_income** на целочисленный."
   ]
  },
  {
   "cell_type": "code",
   "execution_count": 107,
   "id": "54187bcd",
   "metadata": {},
   "outputs": [],
   "source": [
    "df['total_income'] = df['total_income'].astype('int')"
   ]
  },
  {
   "cell_type": "markdown",
   "id": "defd020b",
   "metadata": {},
   "source": [
    "### Шаг 2.4. Удаление дубликатов."
   ]
  },
  {
   "cell_type": "code",
   "execution_count": 108,
   "id": "aa7fb509",
   "metadata": {},
   "outputs": [
    {
     "name": "stdout",
     "output_type": "stream",
     "text": [
      "71\n"
     ]
    }
   ],
   "source": [
    "print(df.duplicated().sum()) "
   ]
  },
  {
   "cell_type": "code",
   "execution_count": 109,
   "id": "c34badc3",
   "metadata": {},
   "outputs": [],
   "source": [
    "df = df.drop_duplicates().reset_index(drop=True)"
   ]
  },
  {
   "cell_type": "code",
   "execution_count": 110,
   "id": "d6125d6d",
   "metadata": {},
   "outputs": [
    {
     "name": "stdout",
     "output_type": "stream",
     "text": [
      "0\n"
     ]
    }
   ],
   "source": [
    "print(df.duplicated().sum()) "
   ]
  },
  {
   "cell_type": "markdown",
   "id": "54f97904",
   "metadata": {},
   "source": [
    "### Шаг 2.5. Формирование дополнительных датафреймов словарей, декомпозиция исходного датафрейма."
   ]
  },
  {
   "cell_type": "markdown",
   "id": "28c36190",
   "metadata": {},
   "source": [
    "Создадим два новых датафрейма."
   ]
  },
  {
   "cell_type": "code",
   "execution_count": 111,
   "id": "1fd8a025",
   "metadata": {},
   "outputs": [],
   "source": [
    "#каждому уникальному значению из education соответствует уникальное значение education_id\n",
    "#каждому уникальному значению из family_status соответствует уникальное значение family_status_id\n",
    "education_dic = df[['education', 'education_id']]\n",
    "family_dic = df[['family_status', 'family_status_id']]\n",
    "\n"
   ]
  },
  {
   "cell_type": "markdown",
   "id": "d8d0c5a7",
   "metadata": {},
   "source": [
    "Удалим из исходного датафрейма столбцы **education** и **family_status**, оставив только их идентификаторы: **education_id** и **family_status_id**."
   ]
  },
  {
   "cell_type": "code",
   "execution_count": 112,
   "id": "ca7d2fdd",
   "metadata": {},
   "outputs": [],
   "source": [
    "df = df.drop(labels='education', axis=1)\n",
    "df = df.drop(labels='family_status', axis=1)\n",
    "\n"
   ]
  },
  {
   "cell_type": "markdown",
   "id": "6d74cc8c",
   "metadata": {},
   "source": [
    "### Шаг 2.6. Категоризация дохода."
   ]
  },
  {
   "cell_type": "markdown",
   "id": "517f03a9",
   "metadata": {},
   "source": [
    "На основании диапазонов создадим новый столбец **total_income_category**"
   ]
  },
  {
   "cell_type": "code",
   "execution_count": 113,
   "id": "919b3c1d",
   "metadata": {},
   "outputs": [],
   "source": [
    "#Напишем функцию\n",
    "def total_inc(row):\n",
    "    tot_inc = row['total_income']\n",
    "    \n",
    "    \n",
    "    if tot_inc <= 30000:\n",
    "        return 'E'\n",
    "    if tot_inc <= 50000:\n",
    "        return 'D'\n",
    "    if tot_inc <= 200000: \n",
    "        return 'C'\n",
    "    if tot_inc <= 1000000:\n",
    "        return 'B'\n",
    "    if tot_inc >= 1000001:\n",
    "        return 'A'\n",
    "            \n",
    "    \n",
    "    \n",
    "\n",
    "\n",
    "row_values = [17000]\n",
    "row_columns = ['total_income']\n",
    "row = pd.Series(data=row_values, index=row_columns)  \n",
    "df['total_income_category'] = df.apply(total_inc, axis=1)\n"
   ]
  },
  {
   "cell_type": "markdown",
   "id": "029d3434",
   "metadata": {},
   "source": [
    "### Шаг 2.7. Категоризация целей кредита."
   ]
  },
  {
   "cell_type": "markdown",
   "id": "e5d5de31",
   "metadata": {},
   "source": [
    "Создадим функцию "
   ]
  },
  {
   "cell_type": "code",
   "execution_count": 114,
   "id": "7a13e4fb",
   "metadata": {},
   "outputs": [
    {
     "name": "stdout",
     "output_type": "stream",
     "text": [
      "                                        purpose\n",
      "свадьба                                     791\n",
      "на проведение свадьбы                       768\n",
      "сыграть свадьбу                             765\n",
      "операции с недвижимостью                    675\n",
      "покупка коммерческой недвижимости           661\n",
      "операции с жильем                           652\n",
      "покупка жилья для сдачи                     651\n",
      "операции с коммерческой недвижимостью       650\n",
      "покупка жилья                               646\n",
      "жилье                                       646\n",
      "покупка жилья для семьи                     638\n",
      "строительство собственной недвижимости      635\n",
      "недвижимость                                633\n",
      "операции со своей недвижимостью             627\n",
      "строительство жилой недвижимости            624\n",
      "покупка недвижимости                        621\n",
      "покупка своего жилья                        620\n",
      "строительство недвижимости                  619\n",
      "ремонт жилью                                607\n",
      "покупка жилой недвижимости                  606\n",
      "на покупку своего автомобиля                505\n",
      "заняться высшим образованием                496\n",
      "автомобиль                                  494\n",
      "сделка с подержанным автомобилем            486\n",
      "на покупку подержанного автомобиля          478\n",
      "автомобили                                  478\n",
      "свой автомобиль                             478\n",
      "на покупку автомобиля                       471\n",
      "приобретение автомобиля                     461\n",
      "дополнительное образование                  460\n",
      "сделка с автомобилем                        455\n",
      "высшее образование                          452\n",
      "образование                                 447\n",
      "получение дополнительного образования       446\n",
      "получение образования                       442\n",
      "профильное образование                      436\n",
      "получение высшего образования               426\n",
      "заняться образованием                       408\n"
     ]
    }
   ],
   "source": [
    "#найдём уникальные значение в столбце purpose \n",
    "unique_purposes = df['purpose'].value_counts().index.tolist()\n",
    "print(df['purpose'].value_counts().to_frame())\n"
   ]
  },
  {
   "cell_type": "code",
   "execution_count": 131,
   "id": "707ba66b",
   "metadata": {},
   "outputs": [
    {
     "data": {
      "text/html": [
       "<div>\n",
       "<style scoped>\n",
       "    .dataframe tbody tr th:only-of-type {\n",
       "        vertical-align: middle;\n",
       "    }\n",
       "\n",
       "    .dataframe tbody tr th {\n",
       "        vertical-align: top;\n",
       "    }\n",
       "\n",
       "    .dataframe thead th {\n",
       "        text-align: right;\n",
       "    }\n",
       "</style>\n",
       "<table border=\"1\" class=\"dataframe\">\n",
       "  <thead>\n",
       "    <tr style=\"text-align: right;\">\n",
       "      <th></th>\n",
       "      <th>children</th>\n",
       "      <th>days_employed</th>\n",
       "      <th>dob_years</th>\n",
       "      <th>education_id</th>\n",
       "      <th>family_status_id</th>\n",
       "      <th>gender</th>\n",
       "      <th>income_type</th>\n",
       "      <th>debt</th>\n",
       "      <th>total_income</th>\n",
       "      <th>purpose</th>\n",
       "      <th>total_income_category</th>\n",
       "      <th>purpose_category</th>\n",
       "    </tr>\n",
       "  </thead>\n",
       "  <tbody>\n",
       "    <tr>\n",
       "      <th>0</th>\n",
       "      <td>1.0</td>\n",
       "      <td>8437.673028</td>\n",
       "      <td>42</td>\n",
       "      <td>0</td>\n",
       "      <td>0</td>\n",
       "      <td>F</td>\n",
       "      <td>сотрудник</td>\n",
       "      <td>0</td>\n",
       "      <td>253875</td>\n",
       "      <td>покупка жилья</td>\n",
       "      <td>B</td>\n",
       "      <td>операции с недвижимостью</td>\n",
       "    </tr>\n",
       "    <tr>\n",
       "      <th>1</th>\n",
       "      <td>1.0</td>\n",
       "      <td>4024.803754</td>\n",
       "      <td>36</td>\n",
       "      <td>1</td>\n",
       "      <td>0</td>\n",
       "      <td>F</td>\n",
       "      <td>сотрудник</td>\n",
       "      <td>0</td>\n",
       "      <td>112080</td>\n",
       "      <td>приобретение автомобиля</td>\n",
       "      <td>C</td>\n",
       "      <td>операции с автомобилем</td>\n",
       "    </tr>\n",
       "    <tr>\n",
       "      <th>2</th>\n",
       "      <td>0.0</td>\n",
       "      <td>5623.422610</td>\n",
       "      <td>33</td>\n",
       "      <td>1</td>\n",
       "      <td>0</td>\n",
       "      <td>M</td>\n",
       "      <td>сотрудник</td>\n",
       "      <td>0</td>\n",
       "      <td>145885</td>\n",
       "      <td>покупка жилья</td>\n",
       "      <td>C</td>\n",
       "      <td>операции с недвижимостью</td>\n",
       "    </tr>\n",
       "    <tr>\n",
       "      <th>3</th>\n",
       "      <td>3.0</td>\n",
       "      <td>4124.747207</td>\n",
       "      <td>32</td>\n",
       "      <td>1</td>\n",
       "      <td>0</td>\n",
       "      <td>M</td>\n",
       "      <td>сотрудник</td>\n",
       "      <td>0</td>\n",
       "      <td>267628</td>\n",
       "      <td>дополнительное образование</td>\n",
       "      <td>B</td>\n",
       "      <td>получение образования</td>\n",
       "    </tr>\n",
       "    <tr>\n",
       "      <th>4</th>\n",
       "      <td>0.0</td>\n",
       "      <td>2857.676846</td>\n",
       "      <td>53</td>\n",
       "      <td>1</td>\n",
       "      <td>1</td>\n",
       "      <td>F</td>\n",
       "      <td>пенсионер</td>\n",
       "      <td>0</td>\n",
       "      <td>158616</td>\n",
       "      <td>сыграть свадьбу</td>\n",
       "      <td>C</td>\n",
       "      <td>проведение свадьбы</td>\n",
       "    </tr>\n",
       "    <tr>\n",
       "      <th>...</th>\n",
       "      <td>...</td>\n",
       "      <td>...</td>\n",
       "      <td>...</td>\n",
       "      <td>...</td>\n",
       "      <td>...</td>\n",
       "      <td>...</td>\n",
       "      <td>...</td>\n",
       "      <td>...</td>\n",
       "      <td>...</td>\n",
       "      <td>...</td>\n",
       "      <td>...</td>\n",
       "      <td>...</td>\n",
       "    </tr>\n",
       "    <tr>\n",
       "      <th>21449</th>\n",
       "      <td>1.0</td>\n",
       "      <td>4529.316663</td>\n",
       "      <td>43</td>\n",
       "      <td>1</td>\n",
       "      <td>1</td>\n",
       "      <td>F</td>\n",
       "      <td>компаньон</td>\n",
       "      <td>0</td>\n",
       "      <td>224791</td>\n",
       "      <td>операции с жильем</td>\n",
       "      <td>B</td>\n",
       "      <td>операции с недвижимостью</td>\n",
       "    </tr>\n",
       "    <tr>\n",
       "      <th>21450</th>\n",
       "      <td>0.0</td>\n",
       "      <td>18615.000000</td>\n",
       "      <td>67</td>\n",
       "      <td>1</td>\n",
       "      <td>0</td>\n",
       "      <td>F</td>\n",
       "      <td>пенсионер</td>\n",
       "      <td>0</td>\n",
       "      <td>155999</td>\n",
       "      <td>сделка с автомобилем</td>\n",
       "      <td>C</td>\n",
       "      <td>операции с автомобилем</td>\n",
       "    </tr>\n",
       "    <tr>\n",
       "      <th>21451</th>\n",
       "      <td>1.0</td>\n",
       "      <td>2113.346888</td>\n",
       "      <td>38</td>\n",
       "      <td>1</td>\n",
       "      <td>1</td>\n",
       "      <td>M</td>\n",
       "      <td>сотрудник</td>\n",
       "      <td>1</td>\n",
       "      <td>89672</td>\n",
       "      <td>недвижимость</td>\n",
       "      <td>C</td>\n",
       "      <td>операции с недвижимостью</td>\n",
       "    </tr>\n",
       "    <tr>\n",
       "      <th>21452</th>\n",
       "      <td>3.0</td>\n",
       "      <td>3112.481705</td>\n",
       "      <td>38</td>\n",
       "      <td>1</td>\n",
       "      <td>0</td>\n",
       "      <td>M</td>\n",
       "      <td>сотрудник</td>\n",
       "      <td>1</td>\n",
       "      <td>244093</td>\n",
       "      <td>на покупку своего автомобиля</td>\n",
       "      <td>B</td>\n",
       "      <td>операции с автомобилем</td>\n",
       "    </tr>\n",
       "    <tr>\n",
       "      <th>21453</th>\n",
       "      <td>2.0</td>\n",
       "      <td>1984.507589</td>\n",
       "      <td>40</td>\n",
       "      <td>1</td>\n",
       "      <td>0</td>\n",
       "      <td>F</td>\n",
       "      <td>сотрудник</td>\n",
       "      <td>0</td>\n",
       "      <td>82047</td>\n",
       "      <td>на покупку автомобиля</td>\n",
       "      <td>C</td>\n",
       "      <td>операции с автомобилем</td>\n",
       "    </tr>\n",
       "  </tbody>\n",
       "</table>\n",
       "<p>21454 rows × 12 columns</p>\n",
       "</div>"
      ],
      "text/plain": [
       "       children  days_employed  dob_years  education_id  family_status_id  \\\n",
       "0           1.0    8437.673028         42             0                 0   \n",
       "1           1.0    4024.803754         36             1                 0   \n",
       "2           0.0    5623.422610         33             1                 0   \n",
       "3           3.0    4124.747207         32             1                 0   \n",
       "4           0.0    2857.676846         53             1                 1   \n",
       "...         ...            ...        ...           ...               ...   \n",
       "21449       1.0    4529.316663         43             1                 1   \n",
       "21450       0.0   18615.000000         67             1                 0   \n",
       "21451       1.0    2113.346888         38             1                 1   \n",
       "21452       3.0    3112.481705         38             1                 0   \n",
       "21453       2.0    1984.507589         40             1                 0   \n",
       "\n",
       "      gender income_type  debt  total_income                       purpose  \\\n",
       "0          F   сотрудник     0        253875                 покупка жилья   \n",
       "1          F   сотрудник     0        112080       приобретение автомобиля   \n",
       "2          M   сотрудник     0        145885                 покупка жилья   \n",
       "3          M   сотрудник     0        267628    дополнительное образование   \n",
       "4          F   пенсионер     0        158616               сыграть свадьбу   \n",
       "...      ...         ...   ...           ...                           ...   \n",
       "21449      F   компаньон     0        224791             операции с жильем   \n",
       "21450      F   пенсионер     0        155999          сделка с автомобилем   \n",
       "21451      M   сотрудник     1         89672                  недвижимость   \n",
       "21452      M   сотрудник     1        244093  на покупку своего автомобиля   \n",
       "21453      F   сотрудник     0         82047         на покупку автомобиля   \n",
       "\n",
       "      total_income_category          purpose_category  \n",
       "0                         B  операции с недвижимостью  \n",
       "1                         C    операции с автомобилем  \n",
       "2                         C  операции с недвижимостью  \n",
       "3                         B     получение образования  \n",
       "4                         C        проведение свадьбы  \n",
       "...                     ...                       ...  \n",
       "21449                     B  операции с недвижимостью  \n",
       "21450                     C    операции с автомобилем  \n",
       "21451                     C  операции с недвижимостью  \n",
       "21452                     B    операции с автомобилем  \n",
       "21453                     C    операции с автомобилем  \n",
       "\n",
       "[21454 rows x 12 columns]"
      ]
     },
     "execution_count": 131,
     "metadata": {},
     "output_type": "execute_result"
    }
   ],
   "source": [
    "estate = ['недвижим', 'жиль']\n",
    "wedding = ['свадьб']\n",
    "auto = ['автомоб']\n",
    "education = ['образова']\n",
    "\n",
    "df['purpose_category'] = 0\n",
    "def category_cred(word_list, category):\n",
    "  join = '|'.join(word_list)\n",
    "  index = df[df['purpose'].str.lower().str.contains(join)].index.to_list()\n",
    "  for i in index:\n",
    "    df.loc[i, 'purpose_category'] = category\n",
    "  return df\n",
    "\n",
    "\n",
    "category_cred(wedding, 'проведение свадьбы')\n",
    "category_cred(estate, 'операции с недвижимостью')\n",
    "category_cred(auto, 'операции с автомобилем')\n",
    "category_cred(education, 'получение образования')\n",
    "\n"
   ]
  },
  {
   "cell_type": "code",
   "execution_count": 132,
   "id": "3cdab384",
   "metadata": {
    "scrolled": false
   },
   "outputs": [
    {
     "data": {
      "text/html": [
       "<div>\n",
       "<style scoped>\n",
       "    .dataframe tbody tr th:only-of-type {\n",
       "        vertical-align: middle;\n",
       "    }\n",
       "\n",
       "    .dataframe tbody tr th {\n",
       "        vertical-align: top;\n",
       "    }\n",
       "\n",
       "    .dataframe thead th {\n",
       "        text-align: right;\n",
       "    }\n",
       "</style>\n",
       "<table border=\"1\" class=\"dataframe\">\n",
       "  <thead>\n",
       "    <tr style=\"text-align: right;\">\n",
       "      <th></th>\n",
       "      <th>children</th>\n",
       "      <th>days_employed</th>\n",
       "      <th>dob_years</th>\n",
       "      <th>education_id</th>\n",
       "      <th>family_status_id</th>\n",
       "      <th>gender</th>\n",
       "      <th>income_type</th>\n",
       "      <th>debt</th>\n",
       "      <th>total_income</th>\n",
       "      <th>purpose</th>\n",
       "      <th>total_income_category</th>\n",
       "      <th>purpose_category</th>\n",
       "    </tr>\n",
       "  </thead>\n",
       "  <tbody>\n",
       "    <tr>\n",
       "      <th>0</th>\n",
       "      <td>1.0</td>\n",
       "      <td>8437.673028</td>\n",
       "      <td>42</td>\n",
       "      <td>0</td>\n",
       "      <td>0</td>\n",
       "      <td>F</td>\n",
       "      <td>сотрудник</td>\n",
       "      <td>0</td>\n",
       "      <td>253875</td>\n",
       "      <td>покупка жилья</td>\n",
       "      <td>B</td>\n",
       "      <td>операции с недвижимостью</td>\n",
       "    </tr>\n",
       "    <tr>\n",
       "      <th>1</th>\n",
       "      <td>1.0</td>\n",
       "      <td>4024.803754</td>\n",
       "      <td>36</td>\n",
       "      <td>1</td>\n",
       "      <td>0</td>\n",
       "      <td>F</td>\n",
       "      <td>сотрудник</td>\n",
       "      <td>0</td>\n",
       "      <td>112080</td>\n",
       "      <td>приобретение автомобиля</td>\n",
       "      <td>C</td>\n",
       "      <td>операции с автомобилем</td>\n",
       "    </tr>\n",
       "    <tr>\n",
       "      <th>2</th>\n",
       "      <td>0.0</td>\n",
       "      <td>5623.422610</td>\n",
       "      <td>33</td>\n",
       "      <td>1</td>\n",
       "      <td>0</td>\n",
       "      <td>M</td>\n",
       "      <td>сотрудник</td>\n",
       "      <td>0</td>\n",
       "      <td>145885</td>\n",
       "      <td>покупка жилья</td>\n",
       "      <td>C</td>\n",
       "      <td>операции с недвижимостью</td>\n",
       "    </tr>\n",
       "    <tr>\n",
       "      <th>3</th>\n",
       "      <td>3.0</td>\n",
       "      <td>4124.747207</td>\n",
       "      <td>32</td>\n",
       "      <td>1</td>\n",
       "      <td>0</td>\n",
       "      <td>M</td>\n",
       "      <td>сотрудник</td>\n",
       "      <td>0</td>\n",
       "      <td>267628</td>\n",
       "      <td>дополнительное образование</td>\n",
       "      <td>B</td>\n",
       "      <td>получение образования</td>\n",
       "    </tr>\n",
       "    <tr>\n",
       "      <th>4</th>\n",
       "      <td>0.0</td>\n",
       "      <td>2857.676846</td>\n",
       "      <td>53</td>\n",
       "      <td>1</td>\n",
       "      <td>1</td>\n",
       "      <td>F</td>\n",
       "      <td>пенсионер</td>\n",
       "      <td>0</td>\n",
       "      <td>158616</td>\n",
       "      <td>сыграть свадьбу</td>\n",
       "      <td>C</td>\n",
       "      <td>проведение свадьбы</td>\n",
       "    </tr>\n",
       "    <tr>\n",
       "      <th>5</th>\n",
       "      <td>0.0</td>\n",
       "      <td>926.185831</td>\n",
       "      <td>27</td>\n",
       "      <td>0</td>\n",
       "      <td>1</td>\n",
       "      <td>M</td>\n",
       "      <td>компаньон</td>\n",
       "      <td>0</td>\n",
       "      <td>255763</td>\n",
       "      <td>покупка жилья</td>\n",
       "      <td>B</td>\n",
       "      <td>операции с недвижимостью</td>\n",
       "    </tr>\n",
       "    <tr>\n",
       "      <th>6</th>\n",
       "      <td>0.0</td>\n",
       "      <td>2879.202052</td>\n",
       "      <td>43</td>\n",
       "      <td>0</td>\n",
       "      <td>0</td>\n",
       "      <td>F</td>\n",
       "      <td>компаньон</td>\n",
       "      <td>0</td>\n",
       "      <td>240525</td>\n",
       "      <td>операции с жильем</td>\n",
       "      <td>B</td>\n",
       "      <td>операции с недвижимостью</td>\n",
       "    </tr>\n",
       "    <tr>\n",
       "      <th>7</th>\n",
       "      <td>0.0</td>\n",
       "      <td>152.779569</td>\n",
       "      <td>50</td>\n",
       "      <td>1</td>\n",
       "      <td>0</td>\n",
       "      <td>M</td>\n",
       "      <td>сотрудник</td>\n",
       "      <td>0</td>\n",
       "      <td>135823</td>\n",
       "      <td>образование</td>\n",
       "      <td>C</td>\n",
       "      <td>получение образования</td>\n",
       "    </tr>\n",
       "    <tr>\n",
       "      <th>8</th>\n",
       "      <td>2.0</td>\n",
       "      <td>6929.865299</td>\n",
       "      <td>35</td>\n",
       "      <td>0</td>\n",
       "      <td>1</td>\n",
       "      <td>F</td>\n",
       "      <td>сотрудник</td>\n",
       "      <td>0</td>\n",
       "      <td>95856</td>\n",
       "      <td>на проведение свадьбы</td>\n",
       "      <td>C</td>\n",
       "      <td>проведение свадьбы</td>\n",
       "    </tr>\n",
       "    <tr>\n",
       "      <th>9</th>\n",
       "      <td>0.0</td>\n",
       "      <td>2188.756445</td>\n",
       "      <td>41</td>\n",
       "      <td>1</td>\n",
       "      <td>0</td>\n",
       "      <td>M</td>\n",
       "      <td>сотрудник</td>\n",
       "      <td>0</td>\n",
       "      <td>144425</td>\n",
       "      <td>покупка жилья для семьи</td>\n",
       "      <td>C</td>\n",
       "      <td>операции с недвижимостью</td>\n",
       "    </tr>\n",
       "  </tbody>\n",
       "</table>\n",
       "</div>"
      ],
      "text/plain": [
       "   children  days_employed  dob_years  education_id  family_status_id gender  \\\n",
       "0       1.0    8437.673028         42             0                 0      F   \n",
       "1       1.0    4024.803754         36             1                 0      F   \n",
       "2       0.0    5623.422610         33             1                 0      M   \n",
       "3       3.0    4124.747207         32             1                 0      M   \n",
       "4       0.0    2857.676846         53             1                 1      F   \n",
       "5       0.0     926.185831         27             0                 1      M   \n",
       "6       0.0    2879.202052         43             0                 0      F   \n",
       "7       0.0     152.779569         50             1                 0      M   \n",
       "8       2.0    6929.865299         35             0                 1      F   \n",
       "9       0.0    2188.756445         41             1                 0      M   \n",
       "\n",
       "  income_type  debt  total_income                     purpose  \\\n",
       "0   сотрудник     0        253875               покупка жилья   \n",
       "1   сотрудник     0        112080     приобретение автомобиля   \n",
       "2   сотрудник     0        145885               покупка жилья   \n",
       "3   сотрудник     0        267628  дополнительное образование   \n",
       "4   пенсионер     0        158616             сыграть свадьбу   \n",
       "5   компаньон     0        255763               покупка жилья   \n",
       "6   компаньон     0        240525           операции с жильем   \n",
       "7   сотрудник     0        135823                 образование   \n",
       "8   сотрудник     0         95856       на проведение свадьбы   \n",
       "9   сотрудник     0        144425     покупка жилья для семьи   \n",
       "\n",
       "  total_income_category          purpose_category  \n",
       "0                     B  операции с недвижимостью  \n",
       "1                     C    операции с автомобилем  \n",
       "2                     C  операции с недвижимостью  \n",
       "3                     B     получение образования  \n",
       "4                     C        проведение свадьбы  \n",
       "5                     B  операции с недвижимостью  \n",
       "6                     B  операции с недвижимостью  \n",
       "7                     C     получение образования  \n",
       "8                     C        проведение свадьбы  \n",
       "9                     C  операции с недвижимостью  "
      ]
     },
     "execution_count": 132,
     "metadata": {},
     "output_type": "execute_result"
    }
   ],
   "source": [
    "df.head(10)"
   ]
  },
  {
   "cell_type": "markdown",
   "id": "d87132ec",
   "metadata": {},
   "source": [
    "### Ответы на вопросы."
   ]
  },
  {
   "cell_type": "markdown",
   "id": "35042afd",
   "metadata": {},
   "source": [
    "**Есть ли зависимость между количеством детей и возвратом кредита в срок?**"
   ]
  },
  {
   "cell_type": "code",
   "execution_count": 118,
   "id": "ce4a18da",
   "metadata": {},
   "outputs": [
    {
     "data": {
      "text/html": [
       "<div>\n",
       "<style scoped>\n",
       "    .dataframe tbody tr th:only-of-type {\n",
       "        vertical-align: middle;\n",
       "    }\n",
       "\n",
       "    .dataframe tbody tr th {\n",
       "        vertical-align: top;\n",
       "    }\n",
       "\n",
       "    .dataframe thead th {\n",
       "        text-align: right;\n",
       "    }\n",
       "</style>\n",
       "<table border=\"1\" class=\"dataframe\">\n",
       "  <thead>\n",
       "    <tr style=\"text-align: right;\">\n",
       "      <th></th>\n",
       "      <th>debt</th>\n",
       "    </tr>\n",
       "    <tr>\n",
       "      <th>children</th>\n",
       "      <th></th>\n",
       "    </tr>\n",
       "  </thead>\n",
       "  <tbody>\n",
       "    <tr>\n",
       "      <th>5.0</th>\n",
       "      <td>0.000000</td>\n",
       "    </tr>\n",
       "    <tr>\n",
       "      <th>0.0</th>\n",
       "      <td>0.075598</td>\n",
       "    </tr>\n",
       "    <tr>\n",
       "      <th>3.0</th>\n",
       "      <td>0.081818</td>\n",
       "    </tr>\n",
       "    <tr>\n",
       "      <th>1.0</th>\n",
       "      <td>0.091658</td>\n",
       "    </tr>\n",
       "    <tr>\n",
       "      <th>2.0</th>\n",
       "      <td>0.094542</td>\n",
       "    </tr>\n",
       "    <tr>\n",
       "      <th>4.0</th>\n",
       "      <td>0.097561</td>\n",
       "    </tr>\n",
       "  </tbody>\n",
       "</table>\n",
       "</div>"
      ],
      "text/plain": [
       "              debt\n",
       "children          \n",
       "5.0       0.000000\n",
       "0.0       0.075598\n",
       "3.0       0.081818\n",
       "1.0       0.091658\n",
       "2.0       0.094542\n",
       "4.0       0.097561"
      ]
     },
     "execution_count": 118,
     "metadata": {},
     "output_type": "execute_result"
    }
   ],
   "source": [
    "df.groupby('children')['debt'].mean().to_frame().sort_values(by='debt') \n"
   ]
  },
  {
   "cell_type": "markdown",
   "id": "b32c7e66",
   "metadata": {},
   "source": [
    "Бездетные люди как правило реже просрочивают выплаты по кредиту, чем люди с детьми. В то же время вероятность просрочивания кредита увеличивается пропорцианально количеству детей в семье. Хотя заемщики с 3 детьми реже просрочивают выплаты, чем люди с 1 и более детьми."
   ]
  },
  {
   "cell_type": "markdown",
   "id": "e947b5a7",
   "metadata": {},
   "source": [
    "**Есть ли зависимость между семейным положением и возвратом кредита в срок?**"
   ]
  },
  {
   "cell_type": "code",
   "execution_count": 91,
   "id": "db0d4ed8",
   "metadata": {},
   "outputs": [
    {
     "name": "stdout",
     "output_type": "stream",
     "text": [
      "family_status          family_status_id\n",
      "женат / замужем        0                   12339\n",
      "гражданский брак       1                    4151\n",
      "Не женат / не замужем  4                    2810\n",
      "в разводе              3                    1195\n",
      "вдовец / вдова         2                     959\n",
      "dtype: int64\n"
     ]
    },
    {
     "data": {
      "text/html": [
       "<div>\n",
       "<style scoped>\n",
       "    .dataframe tbody tr th:only-of-type {\n",
       "        vertical-align: middle;\n",
       "    }\n",
       "\n",
       "    .dataframe tbody tr th {\n",
       "        vertical-align: top;\n",
       "    }\n",
       "\n",
       "    .dataframe thead th {\n",
       "        text-align: right;\n",
       "    }\n",
       "</style>\n",
       "<table border=\"1\" class=\"dataframe\">\n",
       "  <thead>\n",
       "    <tr style=\"text-align: right;\">\n",
       "      <th></th>\n",
       "      <th>debt</th>\n",
       "    </tr>\n",
       "    <tr>\n",
       "      <th>family_status_id</th>\n",
       "      <th></th>\n",
       "    </tr>\n",
       "  </thead>\n",
       "  <tbody>\n",
       "    <tr>\n",
       "      <th>2</th>\n",
       "      <td>0.065693</td>\n",
       "    </tr>\n",
       "    <tr>\n",
       "      <th>3</th>\n",
       "      <td>0.071130</td>\n",
       "    </tr>\n",
       "    <tr>\n",
       "      <th>0</th>\n",
       "      <td>0.075452</td>\n",
       "    </tr>\n",
       "    <tr>\n",
       "      <th>1</th>\n",
       "      <td>0.093471</td>\n",
       "    </tr>\n",
       "    <tr>\n",
       "      <th>4</th>\n",
       "      <td>0.097509</td>\n",
       "    </tr>\n",
       "  </tbody>\n",
       "</table>\n",
       "</div>"
      ],
      "text/plain": [
       "                      debt\n",
       "family_status_id          \n",
       "2                 0.065693\n",
       "3                 0.071130\n",
       "0                 0.075452\n",
       "1                 0.093471\n",
       "4                 0.097509"
      ]
     },
     "execution_count": 91,
     "metadata": {},
     "output_type": "execute_result"
    }
   ],
   "source": [
    "#print(df['family_status_id'].value_counts()) \n",
    "#df.groupby('family_status_id')['debt'].mean().to_frame().sort_values(by='debt')\n",
    "\n",
    "\n",
    "print(family_dic.value_counts()) \n",
    "df.groupby('family_status_id')['debt'].mean().to_frame().sort_values(by='debt') "
   ]
  },
  {
   "cell_type": "markdown",
   "id": "e887eda7",
   "metadata": {},
   "source": [
    "Исходя из результатов исследования люди, которые не состоят в браке или не были в нём, более склонны к просрочеванию выплат. Но в то же время те кто овдовел или разведён платят чаще, чем люди в браке.\n",
    " "
   ]
  },
  {
   "cell_type": "markdown",
   "id": "9ebe92b8",
   "metadata": {},
   "source": [
    "**Есть ли зависимость между уровнем дохода и возвратом кредита в срок?**"
   ]
  },
  {
   "cell_type": "code",
   "execution_count": 124,
   "id": "eef21528",
   "metadata": {},
   "outputs": [
    {
     "data": {
      "text/html": [
       "<div>\n",
       "<style scoped>\n",
       "    .dataframe tbody tr th:only-of-type {\n",
       "        vertical-align: middle;\n",
       "    }\n",
       "\n",
       "    .dataframe tbody tr th {\n",
       "        vertical-align: top;\n",
       "    }\n",
       "\n",
       "    .dataframe thead th {\n",
       "        text-align: right;\n",
       "    }\n",
       "</style>\n",
       "<table border=\"1\" class=\"dataframe\">\n",
       "  <thead>\n",
       "    <tr style=\"text-align: right;\">\n",
       "      <th></th>\n",
       "      <th>debt</th>\n",
       "    </tr>\n",
       "    <tr>\n",
       "      <th>total_income_category</th>\n",
       "      <th></th>\n",
       "    </tr>\n",
       "  </thead>\n",
       "  <tbody>\n",
       "    <tr>\n",
       "      <th>D</th>\n",
       "      <td>0.060000</td>\n",
       "    </tr>\n",
       "    <tr>\n",
       "      <th>B</th>\n",
       "      <td>0.070621</td>\n",
       "    </tr>\n",
       "    <tr>\n",
       "      <th>A</th>\n",
       "      <td>0.080000</td>\n",
       "    </tr>\n",
       "    <tr>\n",
       "      <th>C</th>\n",
       "      <td>0.084915</td>\n",
       "    </tr>\n",
       "    <tr>\n",
       "      <th>E</th>\n",
       "      <td>0.090909</td>\n",
       "    </tr>\n",
       "  </tbody>\n",
       "</table>\n",
       "</div>"
      ],
      "text/plain": [
       "                           debt\n",
       "total_income_category          \n",
       "D                      0.060000\n",
       "B                      0.070621\n",
       "A                      0.080000\n",
       "C                      0.084915\n",
       "E                      0.090909"
      ]
     },
     "execution_count": 124,
     "metadata": {},
     "output_type": "execute_result"
    }
   ],
   "source": [
    "df.groupby('total_income_category')['debt'].mean().to_frame().sort_values(by='debt') "
   ]
  },
  {
   "cell_type": "markdown",
   "id": "e7c7c926",
   "metadata": {},
   "source": [
    "Клиенты, чей доход находится в диапозоне между 30-50т. с большей вероятность выплатят кредит в срок. Но в тоже время люди чей доход менее 30т. с большей вероятность просрочат выплаты. Так же категория клиентов с доходом категории **C** склонные к просрочиванию выплат по кредиту."
   ]
  },
  {
   "cell_type": "markdown",
   "id": "fdff439a",
   "metadata": {},
   "source": [
    "**Как разные цели кредита влияют на его возврат в срок?**"
   ]
  },
  {
   "cell_type": "code",
   "execution_count": 133,
   "id": "1a2fdc69",
   "metadata": {},
   "outputs": [
    {
     "data": {
      "text/html": [
       "<div>\n",
       "<style scoped>\n",
       "    .dataframe tbody tr th:only-of-type {\n",
       "        vertical-align: middle;\n",
       "    }\n",
       "\n",
       "    .dataframe tbody tr th {\n",
       "        vertical-align: top;\n",
       "    }\n",
       "\n",
       "    .dataframe thead th {\n",
       "        text-align: right;\n",
       "    }\n",
       "</style>\n",
       "<table border=\"1\" class=\"dataframe\">\n",
       "  <thead>\n",
       "    <tr style=\"text-align: right;\">\n",
       "      <th></th>\n",
       "      <th>debt</th>\n",
       "    </tr>\n",
       "    <tr>\n",
       "      <th>purpose_category</th>\n",
       "      <th></th>\n",
       "    </tr>\n",
       "  </thead>\n",
       "  <tbody>\n",
       "    <tr>\n",
       "      <th>операции с недвижимостью</th>\n",
       "      <td>0.072334</td>\n",
       "    </tr>\n",
       "    <tr>\n",
       "      <th>проведение свадьбы</th>\n",
       "      <td>0.080034</td>\n",
       "    </tr>\n",
       "    <tr>\n",
       "      <th>получение образования</th>\n",
       "      <td>0.092200</td>\n",
       "    </tr>\n",
       "    <tr>\n",
       "      <th>операции с автомобилем</th>\n",
       "      <td>0.093590</td>\n",
       "    </tr>\n",
       "  </tbody>\n",
       "</table>\n",
       "</div>"
      ],
      "text/plain": [
       "                              debt\n",
       "purpose_category                  \n",
       "операции с недвижимостью  0.072334\n",
       "проведение свадьбы        0.080034\n",
       "получение образования     0.092200\n",
       "операции с автомобилем    0.093590"
      ]
     },
     "execution_count": 133,
     "metadata": {},
     "output_type": "execute_result"
    }
   ],
   "source": [
    "df.groupby('purpose_category')['debt'].mean().to_frame().sort_values(by='debt') "
   ]
  },
  {
   "cell_type": "markdown",
   "id": "ffef9c7a",
   "metadata": {},
   "source": [
    "Исходя из полученных данных, клиенты берущие кредит на недвижимость, чаще остальных выплачивают кредит в срок. Клиенты которые берут кредит на автомобиль или образование с большей вероятность просрочат платеж. "
   ]
  },
  {
   "cell_type": "markdown",
   "id": "a69c1b0e",
   "metadata": {},
   "source": [
    "## Общий вывод:"
   ]
  },
  {
   "cell_type": "markdown",
   "id": "d8fe7478",
   "metadata": {},
   "source": [
    "Проведя исследование надёжности заёмщиков мы пришли к выводу, что вероятность выплат кредита в срок увеличивают:\n",
    "-  Количество детей.\n",
    "-  Семейное положение заёмщика.\n",
    "-  Уровень дохода.\n",
    "-  Цели кредита.\n",
    "\n",
    "С большей вероятностью платежей по кредиту в срок подверженны клиенты без детей, состоящие в браке, зарабатывающие **D** и **B** категории в месяц и приобретающие недвижимость.\n",
    "Так же учитывая исследование, стоит обратить внимание на следующие моменты:\n",
    "- Наличие и количество детей повышает риск невыплат по кредиту\n",
    "- Люди официально состоящие в браке более ответственны, так же как и овдовевшие или разведенные\n",
    "- Люди с доходом выше среднего с большей вероятностью выплатят кредит в срок.\n",
    "- Кредиты на недвижимость являются наиболее безопасными в плане выплат в срок."
   ]
  },
  {
   "cell_type": "code",
   "execution_count": null,
   "id": "f812a218",
   "metadata": {},
   "outputs": [],
   "source": []
  }
 ],
 "metadata": {
  "ExecuteTimeLog": [
   {
    "duration": 439,
    "start_time": "2022-03-23T13:45:58.192Z"
   },
   {
    "duration": 21,
    "start_time": "2022-03-23T13:46:08.484Z"
   },
   {
    "duration": 17,
    "start_time": "2022-03-23T13:46:26.017Z"
   },
   {
    "duration": 2,
    "start_time": "2022-03-23T13:47:26.369Z"
   },
   {
    "duration": 11,
    "start_time": "2022-03-23T17:35:35.327Z"
   },
   {
    "duration": 69,
    "start_time": "2022-03-23T17:38:56.259Z"
   },
   {
    "duration": 8,
    "start_time": "2022-03-23T17:39:21.743Z"
   },
   {
    "duration": 9,
    "start_time": "2022-03-23T17:39:29.175Z"
   },
   {
    "duration": 13,
    "start_time": "2022-03-23T17:40:07.400Z"
   },
   {
    "duration": 25,
    "start_time": "2022-03-23T17:40:41.880Z"
   },
   {
    "duration": 21,
    "start_time": "2022-03-23T17:41:05.808Z"
   },
   {
    "duration": 31,
    "start_time": "2022-03-23T17:41:31.429Z"
   },
   {
    "duration": 23,
    "start_time": "2022-03-23T17:41:38.656Z"
   },
   {
    "duration": 6,
    "start_time": "2022-03-23T17:46:48.248Z"
   },
   {
    "duration": 8,
    "start_time": "2022-03-23T17:47:09.472Z"
   },
   {
    "duration": 10,
    "start_time": "2022-03-23T17:47:21.000Z"
   },
   {
    "duration": 10,
    "start_time": "2022-03-23T17:48:07.928Z"
   },
   {
    "duration": 12,
    "start_time": "2022-03-23T17:48:30.173Z"
   },
   {
    "duration": 12,
    "start_time": "2022-03-23T17:48:48.364Z"
   },
   {
    "duration": 11,
    "start_time": "2022-03-23T17:48:51.289Z"
   },
   {
    "duration": 116,
    "start_time": "2022-03-23T17:52:42.065Z"
   },
   {
    "duration": 3,
    "start_time": "2022-03-23T17:56:44.351Z"
   },
   {
    "duration": 4,
    "start_time": "2022-03-23T17:56:58.427Z"
   },
   {
    "duration": 5,
    "start_time": "2022-03-23T17:57:07.903Z"
   },
   {
    "duration": 7,
    "start_time": "2022-03-23T17:57:21.175Z"
   },
   {
    "duration": 7,
    "start_time": "2022-03-23T19:55:06.904Z"
   },
   {
    "duration": 8,
    "start_time": "2022-03-23T19:55:11.999Z"
   },
   {
    "duration": 5,
    "start_time": "2022-03-23T19:55:23.212Z"
   },
   {
    "duration": 4,
    "start_time": "2022-03-23T19:55:47.215Z"
   },
   {
    "duration": 5,
    "start_time": "2022-03-23T19:56:05.910Z"
   },
   {
    "duration": 120,
    "start_time": "2022-03-23T19:56:16.673Z"
   },
   {
    "duration": 110,
    "start_time": "2022-03-23T19:56:26.378Z"
   },
   {
    "duration": 126,
    "start_time": "2022-03-23T19:56:36.112Z"
   },
   {
    "duration": 5,
    "start_time": "2022-03-23T19:56:42.862Z"
   },
   {
    "duration": 1871,
    "start_time": "2022-03-23T19:57:07.700Z"
   },
   {
    "duration": 6,
    "start_time": "2022-03-23T19:57:22.554Z"
   },
   {
    "duration": 1132,
    "start_time": "2022-03-23T20:05:42.324Z"
   },
   {
    "duration": 11,
    "start_time": "2022-03-23T20:06:08.567Z"
   },
   {
    "duration": 12,
    "start_time": "2022-03-23T20:06:11.301Z"
   },
   {
    "duration": 70,
    "start_time": "2022-03-25T21:10:03.175Z"
   },
   {
    "duration": 10,
    "start_time": "2022-03-25T21:10:11.595Z"
   },
   {
    "duration": 10,
    "start_time": "2022-03-25T21:10:17.842Z"
   },
   {
    "duration": 542,
    "start_time": "2022-03-25T21:10:24.434Z"
   },
   {
    "duration": 137,
    "start_time": "2022-03-25T21:10:24.980Z"
   },
   {
    "duration": 22,
    "start_time": "2022-03-25T21:10:25.407Z"
   },
   {
    "duration": 14,
    "start_time": "2022-03-25T21:10:25.978Z"
   },
   {
    "duration": 6,
    "start_time": "2022-03-25T21:10:26.555Z"
   },
   {
    "duration": 7,
    "start_time": "2022-03-25T21:10:27.495Z"
   },
   {
    "duration": 14,
    "start_time": "2022-03-25T21:10:27.899Z"
   },
   {
    "duration": 6,
    "start_time": "2022-03-25T21:10:29.755Z"
   },
   {
    "duration": 15,
    "start_time": "2022-03-25T21:10:46.910Z"
   },
   {
    "duration": 6,
    "start_time": "2022-03-25T21:11:12.014Z"
   },
   {
    "duration": 9,
    "start_time": "2022-03-25T21:11:22.415Z"
   },
   {
    "duration": 8,
    "start_time": "2022-03-25T21:11:33.275Z"
   },
   {
    "duration": 15,
    "start_time": "2022-03-25T21:11:42.130Z"
   },
   {
    "duration": 13,
    "start_time": "2022-03-25T21:11:57.383Z"
   },
   {
    "duration": 16,
    "start_time": "2022-03-25T21:12:31.082Z"
   },
   {
    "duration": 19,
    "start_time": "2022-03-25T21:12:39.378Z"
   },
   {
    "duration": 12,
    "start_time": "2022-03-25T21:13:11.251Z"
   },
   {
    "duration": 12,
    "start_time": "2022-03-25T21:13:44.139Z"
   },
   {
    "duration": 11,
    "start_time": "2022-03-25T21:14:43.524Z"
   },
   {
    "duration": 30,
    "start_time": "2022-03-25T21:14:44.190Z"
   },
   {
    "duration": 31,
    "start_time": "2022-03-25T21:14:44.339Z"
   },
   {
    "duration": 1755,
    "start_time": "2022-03-25T21:15:46.979Z"
   },
   {
    "duration": 6,
    "start_time": "2022-03-25T21:15:52.407Z"
   },
   {
    "duration": 22,
    "start_time": "2022-03-25T21:16:34.378Z"
   },
   {
    "duration": 9,
    "start_time": "2022-03-25T21:18:01.666Z"
   },
   {
    "duration": 22,
    "start_time": "2022-03-25T21:18:09.910Z"
   },
   {
    "duration": 11,
    "start_time": "2022-03-25T21:18:20.995Z"
   },
   {
    "duration": 7,
    "start_time": "2022-03-25T21:18:48.798Z"
   },
   {
    "duration": 15,
    "start_time": "2022-03-25T21:19:04.826Z"
   },
   {
    "duration": 22,
    "start_time": "2022-03-25T21:19:17.155Z"
   },
   {
    "duration": 1512,
    "start_time": "2022-03-25T21:21:33.507Z"
   },
   {
    "duration": 18,
    "start_time": "2022-03-25T21:21:43.243Z"
   },
   {
    "duration": 13,
    "start_time": "2022-03-25T21:21:54.530Z"
   },
   {
    "duration": 6,
    "start_time": "2022-03-25T21:22:47.654Z"
   },
   {
    "duration": 19,
    "start_time": "2022-03-25T21:23:08.687Z"
   },
   {
    "duration": 6,
    "start_time": "2022-03-25T21:25:29.794Z"
   },
   {
    "duration": 49,
    "start_time": "2022-03-26T17:41:18.530Z"
   },
   {
    "duration": 393,
    "start_time": "2022-03-26T17:41:25.265Z"
   },
   {
    "duration": 76,
    "start_time": "2022-03-26T17:41:25.659Z"
   },
   {
    "duration": 15,
    "start_time": "2022-03-26T17:41:26.137Z"
   },
   {
    "duration": 11,
    "start_time": "2022-03-26T17:41:26.709Z"
   },
   {
    "duration": 4,
    "start_time": "2022-03-26T17:41:27.226Z"
   },
   {
    "duration": 7,
    "start_time": "2022-03-26T17:41:27.994Z"
   },
   {
    "duration": 11,
    "start_time": "2022-03-26T17:41:28.374Z"
   },
   {
    "duration": 4,
    "start_time": "2022-03-26T17:41:29.346Z"
   },
   {
    "duration": 13,
    "start_time": "2022-03-26T17:41:30.282Z"
   },
   {
    "duration": 13,
    "start_time": "2022-03-26T17:41:31.106Z"
   },
   {
    "duration": 4,
    "start_time": "2022-03-26T17:41:31.770Z"
   },
   {
    "duration": 18,
    "start_time": "2022-03-26T17:41:32.162Z"
   },
   {
    "duration": 22,
    "start_time": "2022-03-26T17:41:32.362Z"
   },
   {
    "duration": 18,
    "start_time": "2022-03-26T17:41:32.574Z"
   },
   {
    "duration": 4,
    "start_time": "2022-03-26T17:41:33.022Z"
   },
   {
    "duration": 5,
    "start_time": "2022-03-26T17:42:13.534Z"
   },
   {
    "duration": 10,
    "start_time": "2022-03-26T17:42:39.413Z"
   },
   {
    "duration": 5,
    "start_time": "2022-03-26T17:42:56.129Z"
   },
   {
    "duration": 5,
    "start_time": "2022-03-26T17:45:26.501Z"
   },
   {
    "duration": 35,
    "start_time": "2022-03-26T17:45:39.401Z"
   },
   {
    "duration": 11,
    "start_time": "2022-03-26T17:46:00.254Z"
   },
   {
    "duration": 11,
    "start_time": "2022-03-26T17:46:09.797Z"
   },
   {
    "duration": 11,
    "start_time": "2022-03-26T17:46:11.861Z"
   },
   {
    "duration": 12,
    "start_time": "2022-03-26T17:46:15.569Z"
   },
   {
    "duration": 14,
    "start_time": "2022-03-26T17:46:28.021Z"
   },
   {
    "duration": 12,
    "start_time": "2022-03-26T17:46:38.742Z"
   },
   {
    "duration": 11,
    "start_time": "2022-03-26T17:46:54.537Z"
   },
   {
    "duration": 10,
    "start_time": "2022-03-26T17:47:01.567Z"
   },
   {
    "duration": 10,
    "start_time": "2022-03-26T17:47:03.505Z"
   },
   {
    "duration": 10,
    "start_time": "2022-03-26T17:47:05.806Z"
   },
   {
    "duration": 9,
    "start_time": "2022-03-26T17:47:12.498Z"
   },
   {
    "duration": 10,
    "start_time": "2022-03-26T17:47:15.753Z"
   },
   {
    "duration": 10,
    "start_time": "2022-03-26T17:47:16.346Z"
   },
   {
    "duration": 11,
    "start_time": "2022-03-26T17:47:31.845Z"
   },
   {
    "duration": 12,
    "start_time": "2022-03-26T17:47:43.265Z"
   },
   {
    "duration": 416,
    "start_time": "2022-03-26T21:13:46.409Z"
   },
   {
    "duration": 78,
    "start_time": "2022-03-26T21:13:47.497Z"
   },
   {
    "duration": 15,
    "start_time": "2022-03-26T21:13:48.393Z"
   },
   {
    "duration": 11,
    "start_time": "2022-03-26T21:13:48.989Z"
   },
   {
    "duration": 5,
    "start_time": "2022-03-26T21:13:50.489Z"
   },
   {
    "duration": 7,
    "start_time": "2022-03-26T21:13:51.645Z"
   },
   {
    "duration": 10,
    "start_time": "2022-03-26T21:13:52.233Z"
   },
   {
    "duration": 4,
    "start_time": "2022-03-26T21:13:53.341Z"
   },
   {
    "duration": 11,
    "start_time": "2022-03-26T21:13:53.745Z"
   },
   {
    "duration": 14,
    "start_time": "2022-03-26T21:13:54.165Z"
   },
   {
    "duration": 4,
    "start_time": "2022-03-26T21:13:54.857Z"
   },
   {
    "duration": 18,
    "start_time": "2022-03-26T21:13:55.249Z"
   },
   {
    "duration": 19,
    "start_time": "2022-03-26T21:13:55.457Z"
   },
   {
    "duration": 18,
    "start_time": "2022-03-26T21:13:56.137Z"
   },
   {
    "duration": 5,
    "start_time": "2022-03-26T21:13:56.909Z"
   },
   {
    "duration": 74,
    "start_time": "2022-03-26T21:13:59.145Z"
   },
   {
    "duration": 71,
    "start_time": "2022-03-26T21:14:01.965Z"
   },
   {
    "duration": 11,
    "start_time": "2022-03-26T21:14:09.957Z"
   },
   {
    "duration": 136,
    "start_time": "2022-03-26T21:15:13.305Z"
   },
   {
    "duration": 139,
    "start_time": "2022-03-26T21:15:37.741Z"
   },
   {
    "duration": 13,
    "start_time": "2022-03-26T21:15:45.336Z"
   },
   {
    "duration": 18,
    "start_time": "2022-03-26T21:16:42.093Z"
   },
   {
    "duration": 7,
    "start_time": "2022-03-26T21:17:40.629Z"
   },
   {
    "duration": 8,
    "start_time": "2022-03-26T21:17:51.441Z"
   },
   {
    "duration": 4,
    "start_time": "2022-03-26T21:18:04.269Z"
   },
   {
    "duration": 5,
    "start_time": "2022-03-26T21:18:09.517Z"
   },
   {
    "duration": 6,
    "start_time": "2022-03-26T21:18:15.286Z"
   },
   {
    "duration": 6,
    "start_time": "2022-03-26T21:18:19.237Z"
   },
   {
    "duration": 6,
    "start_time": "2022-03-26T21:18:22.478Z"
   },
   {
    "duration": 138,
    "start_time": "2022-03-26T21:56:42.558Z"
   },
   {
    "duration": 134,
    "start_time": "2022-03-26T21:56:45.658Z"
   },
   {
    "duration": 150,
    "start_time": "2022-03-26T21:57:39.087Z"
   },
   {
    "duration": 15,
    "start_time": "2022-03-26T21:57:50.818Z"
   },
   {
    "duration": 138,
    "start_time": "2022-03-26T21:58:07.938Z"
   },
   {
    "duration": 15,
    "start_time": "2022-03-26T21:58:10.738Z"
   },
   {
    "duration": 15,
    "start_time": "2022-03-26T21:58:38.806Z"
   },
   {
    "duration": 15,
    "start_time": "2022-03-26T21:59:00.596Z"
   },
   {
    "duration": 142,
    "start_time": "2022-03-26T21:59:42.108Z"
   },
   {
    "duration": 15,
    "start_time": "2022-03-26T21:59:44.732Z"
   },
   {
    "duration": 5,
    "start_time": "2022-03-26T22:00:10.179Z"
   },
   {
    "duration": 5,
    "start_time": "2022-03-26T22:00:29.779Z"
   },
   {
    "duration": 7,
    "start_time": "2022-03-26T22:00:56.020Z"
   },
   {
    "duration": 7,
    "start_time": "2022-03-26T22:00:59.795Z"
   },
   {
    "duration": 22,
    "start_time": "2022-03-26T22:01:29.483Z"
   },
   {
    "duration": 13,
    "start_time": "2022-03-26T22:02:01.832Z"
   },
   {
    "duration": 30,
    "start_time": "2022-03-26T22:02:08.171Z"
   },
   {
    "duration": 21,
    "start_time": "2022-03-26T22:02:08.552Z"
   },
   {
    "duration": 21,
    "start_time": "2022-03-26T22:02:12.500Z"
   },
   {
    "duration": 153,
    "start_time": "2022-03-26T22:02:32.036Z"
   },
   {
    "duration": 17,
    "start_time": "2022-03-26T22:02:44.399Z"
   },
   {
    "duration": 22,
    "start_time": "2022-03-26T22:03:05.403Z"
   },
   {
    "duration": 16,
    "start_time": "2022-03-26T22:03:07.740Z"
   },
   {
    "duration": 74,
    "start_time": "2022-03-26T22:09:17.066Z"
   },
   {
    "duration": 75,
    "start_time": "2022-03-26T22:09:26.097Z"
   },
   {
    "duration": 3,
    "start_time": "2022-03-26T22:14:00.285Z"
   },
   {
    "duration": 69,
    "start_time": "2022-03-26T22:14:00.673Z"
   },
   {
    "duration": 27,
    "start_time": "2022-03-26T22:14:01.212Z"
   },
   {
    "duration": 17,
    "start_time": "2022-03-26T22:14:01.788Z"
   },
   {
    "duration": 5,
    "start_time": "2022-03-26T22:14:02.365Z"
   },
   {
    "duration": 8,
    "start_time": "2022-03-26T22:14:03.489Z"
   },
   {
    "duration": 16,
    "start_time": "2022-03-26T22:14:04.393Z"
   },
   {
    "duration": 5,
    "start_time": "2022-03-26T22:14:05.573Z"
   },
   {
    "duration": 11,
    "start_time": "2022-03-26T22:14:06.557Z"
   },
   {
    "duration": 14,
    "start_time": "2022-03-26T22:14:07.940Z"
   },
   {
    "duration": 5,
    "start_time": "2022-03-26T22:14:14.608Z"
   },
   {
    "duration": 19,
    "start_time": "2022-03-26T22:14:17.109Z"
   },
   {
    "duration": 24,
    "start_time": "2022-03-26T22:14:17.636Z"
   },
   {
    "duration": 21,
    "start_time": "2022-03-26T22:14:18.069Z"
   },
   {
    "duration": 6,
    "start_time": "2022-03-26T22:14:20.380Z"
   },
   {
    "duration": 13,
    "start_time": "2022-03-26T22:14:21.892Z"
   },
   {
    "duration": 12,
    "start_time": "2022-03-26T22:14:47.124Z"
   },
   {
    "duration": 25,
    "start_time": "2022-03-26T22:15:53.456Z"
   },
   {
    "duration": 18,
    "start_time": "2022-03-26T22:16:14.929Z"
   },
   {
    "duration": 14,
    "start_time": "2022-03-26T22:16:43.493Z"
   },
   {
    "duration": 11,
    "start_time": "2022-03-26T22:16:48.528Z"
   },
   {
    "duration": 12,
    "start_time": "2022-03-26T22:17:44.836Z"
   },
   {
    "duration": 12,
    "start_time": "2022-03-26T22:18:06.055Z"
   },
   {
    "duration": 16,
    "start_time": "2022-03-26T22:18:10.256Z"
   },
   {
    "duration": 14,
    "start_time": "2022-03-26T22:18:16.184Z"
   },
   {
    "duration": 15,
    "start_time": "2022-03-26T22:18:24.169Z"
   },
   {
    "duration": 146,
    "start_time": "2022-03-26T22:18:57.055Z"
   },
   {
    "duration": 15,
    "start_time": "2022-03-26T22:19:10.936Z"
   },
   {
    "duration": 179,
    "start_time": "2022-03-26T22:20:10.684Z"
   },
   {
    "duration": 134,
    "start_time": "2022-03-26T22:20:28.563Z"
   },
   {
    "duration": 20,
    "start_time": "2022-03-26T22:20:39.604Z"
   },
   {
    "duration": 150,
    "start_time": "2022-03-26T22:21:01.671Z"
   },
   {
    "duration": 15,
    "start_time": "2022-03-26T22:21:06.536Z"
   },
   {
    "duration": 7,
    "start_time": "2022-03-26T22:24:44.932Z"
   },
   {
    "duration": 6,
    "start_time": "2022-03-26T22:25:00.058Z"
   },
   {
    "duration": 6,
    "start_time": "2022-03-26T22:25:08.131Z"
   },
   {
    "duration": 8,
    "start_time": "2022-03-26T22:25:21.947Z"
   },
   {
    "duration": 4,
    "start_time": "2022-03-26T22:25:31.486Z"
   },
   {
    "duration": 6,
    "start_time": "2022-03-26T22:25:36.435Z"
   },
   {
    "duration": 131,
    "start_time": "2022-03-26T22:27:04.116Z"
   },
   {
    "duration": 136,
    "start_time": "2022-03-26T22:29:34.263Z"
   },
   {
    "duration": 17,
    "start_time": "2022-03-26T22:29:43.875Z"
   },
   {
    "duration": 45,
    "start_time": "2022-03-27T13:18:45.089Z"
   },
   {
    "duration": 456,
    "start_time": "2022-03-27T13:18:48.933Z"
   },
   {
    "duration": 77,
    "start_time": "2022-03-27T13:18:49.725Z"
   },
   {
    "duration": 12,
    "start_time": "2022-03-27T13:18:52.009Z"
   },
   {
    "duration": 25,
    "start_time": "2022-03-27T13:19:37.757Z"
   },
   {
    "duration": 29,
    "start_time": "2022-03-27T13:19:42.361Z"
   },
   {
    "duration": 7,
    "start_time": "2022-03-27T13:42:46.371Z"
   },
   {
    "duration": 6,
    "start_time": "2022-03-27T13:44:34.019Z"
   },
   {
    "duration": 15,
    "start_time": "2022-03-27T13:46:55.160Z"
   },
   {
    "duration": 7,
    "start_time": "2022-03-27T13:46:58.932Z"
   },
   {
    "duration": 5,
    "start_time": "2022-03-27T13:51:30.262Z"
   },
   {
    "duration": 4,
    "start_time": "2022-03-27T13:53:38.842Z"
   },
   {
    "duration": 35,
    "start_time": "2022-03-27T13:57:16.183Z"
   },
   {
    "duration": 3,
    "start_time": "2022-03-27T14:15:19.086Z"
   },
   {
    "duration": 80,
    "start_time": "2022-03-27T14:15:22.087Z"
   },
   {
    "duration": 13,
    "start_time": "2022-03-27T14:15:23.813Z"
   },
   {
    "duration": 13,
    "start_time": "2022-03-27T14:15:25.686Z"
   },
   {
    "duration": 29,
    "start_time": "2022-03-27T14:15:26.874Z"
   },
   {
    "duration": 15,
    "start_time": "2022-03-27T14:15:31.786Z"
   },
   {
    "duration": 4,
    "start_time": "2022-03-27T14:15:34.411Z"
   },
   {
    "duration": 6,
    "start_time": "2022-03-27T14:15:37.382Z"
   },
   {
    "duration": 10,
    "start_time": "2022-03-27T14:15:54.922Z"
   },
   {
    "duration": 9,
    "start_time": "2022-03-27T14:17:19.786Z"
   },
   {
    "duration": 12,
    "start_time": "2022-03-27T14:17:50.798Z"
   },
   {
    "duration": 11,
    "start_time": "2022-03-27T14:18:17.998Z"
   },
   {
    "duration": 10,
    "start_time": "2022-03-27T14:18:28.819Z"
   },
   {
    "duration": 10,
    "start_time": "2022-03-27T14:18:32.605Z"
   },
   {
    "duration": 20,
    "start_time": "2022-03-27T14:19:07.906Z"
   },
   {
    "duration": 44,
    "start_time": "2022-03-27T15:19:49.292Z"
   },
   {
    "duration": 343,
    "start_time": "2022-03-27T15:19:56.529Z"
   },
   {
    "duration": 91,
    "start_time": "2022-03-27T15:19:57.072Z"
   },
   {
    "duration": 17,
    "start_time": "2022-03-27T15:19:57.973Z"
   },
   {
    "duration": 14,
    "start_time": "2022-03-27T15:19:59.285Z"
   },
   {
    "duration": 28,
    "start_time": "2022-03-27T15:20:00.940Z"
   },
   {
    "duration": 10,
    "start_time": "2022-03-27T15:20:07.649Z"
   },
   {
    "duration": 4,
    "start_time": "2022-03-27T15:20:09.437Z"
   },
   {
    "duration": 8,
    "start_time": "2022-03-27T15:20:21.181Z"
   },
   {
    "duration": 10,
    "start_time": "2022-03-27T15:20:21.865Z"
   },
   {
    "duration": 23,
    "start_time": "2022-03-27T15:20:29.508Z"
   },
   {
    "duration": 3,
    "start_time": "2022-03-27T15:20:30.873Z"
   },
   {
    "duration": 11,
    "start_time": "2022-03-27T15:20:33.036Z"
   },
   {
    "duration": 12,
    "start_time": "2022-03-27T15:20:33.917Z"
   },
   {
    "duration": 8,
    "start_time": "2022-03-27T15:20:35.320Z"
   },
   {
    "duration": 12,
    "start_time": "2022-03-27T15:20:36.097Z"
   },
   {
    "duration": 5,
    "start_time": "2022-03-27T15:20:40.677Z"
   },
   {
    "duration": 19,
    "start_time": "2022-03-27T15:20:41.697Z"
   },
   {
    "duration": 19,
    "start_time": "2022-03-27T15:20:42.201Z"
   },
   {
    "duration": 16,
    "start_time": "2022-03-27T15:20:42.609Z"
   },
   {
    "duration": 5,
    "start_time": "2022-03-27T15:20:44.408Z"
   },
   {
    "duration": 8,
    "start_time": "2022-03-27T15:20:45.137Z"
   },
   {
    "duration": 154,
    "start_time": "2022-03-27T15:20:47.978Z"
   },
   {
    "duration": 140,
    "start_time": "2022-03-27T15:20:49.028Z"
   },
   {
    "duration": 9,
    "start_time": "2022-03-27T15:20:50.097Z"
   },
   {
    "duration": 4,
    "start_time": "2022-03-27T15:38:02.220Z"
   },
   {
    "duration": 46,
    "start_time": "2022-03-27T15:38:42.856Z"
   },
   {
    "duration": 11,
    "start_time": "2022-03-27T15:39:01.588Z"
   },
   {
    "duration": 1554,
    "start_time": "2022-03-27T15:39:23.180Z"
   },
   {
    "duration": 3943,
    "start_time": "2022-03-27T15:39:41.123Z"
   },
   {
    "duration": 14,
    "start_time": "2022-03-27T15:39:45.067Z"
   },
   {
    "duration": 3335,
    "start_time": "2022-03-27T15:41:13.891Z"
   },
   {
    "duration": 14,
    "start_time": "2022-03-27T15:41:28.535Z"
   },
   {
    "duration": 3308,
    "start_time": "2022-03-27T15:41:55.395Z"
   },
   {
    "duration": 12,
    "start_time": "2022-03-27T15:41:58.705Z"
   },
   {
    "duration": 19,
    "start_time": "2022-03-27T15:43:17.567Z"
   },
   {
    "duration": 12,
    "start_time": "2022-03-27T15:43:35.087Z"
   },
   {
    "duration": 26,
    "start_time": "2022-03-27T15:48:39.068Z"
   },
   {
    "duration": 8,
    "start_time": "2022-03-27T15:49:39.375Z"
   },
   {
    "duration": 14,
    "start_time": "2022-03-27T15:49:49.034Z"
   },
   {
    "duration": 10,
    "start_time": "2022-03-27T15:50:47.379Z"
   },
   {
    "duration": 518,
    "start_time": "2022-03-27T16:30:25.643Z"
   },
   {
    "duration": 100,
    "start_time": "2022-03-27T16:30:27.099Z"
   },
   {
    "duration": 20,
    "start_time": "2022-03-27T16:30:29.454Z"
   },
   {
    "duration": 21,
    "start_time": "2022-03-27T16:30:33.059Z"
   },
   {
    "duration": 44,
    "start_time": "2022-03-27T16:30:36.250Z"
   },
   {
    "duration": 13,
    "start_time": "2022-03-27T16:34:18.162Z"
   },
   {
    "duration": 4,
    "start_time": "2022-03-27T16:34:28.654Z"
   },
   {
    "duration": 131,
    "start_time": "2022-03-27T16:34:29.079Z"
   },
   {
    "duration": 24,
    "start_time": "2022-03-27T16:34:29.585Z"
   },
   {
    "duration": 27,
    "start_time": "2022-03-27T16:34:30.371Z"
   },
   {
    "duration": 61,
    "start_time": "2022-03-27T16:34:30.575Z"
   },
   {
    "duration": 17,
    "start_time": "2022-03-27T16:34:31.106Z"
   },
   {
    "duration": 6,
    "start_time": "2022-03-27T16:34:31.519Z"
   },
   {
    "duration": 12,
    "start_time": "2022-03-27T16:34:32.251Z"
   },
   {
    "duration": 17,
    "start_time": "2022-03-27T16:34:32.470Z"
   },
   {
    "duration": 33,
    "start_time": "2022-03-27T16:34:33.330Z"
   },
   {
    "duration": 5,
    "start_time": "2022-03-27T16:34:33.750Z"
   },
   {
    "duration": 15,
    "start_time": "2022-03-27T16:34:36.465Z"
   },
   {
    "duration": 21,
    "start_time": "2022-03-27T16:34:36.990Z"
   },
   {
    "duration": 14,
    "start_time": "2022-03-27T16:34:39.598Z"
   },
   {
    "duration": 20,
    "start_time": "2022-03-27T16:34:39.778Z"
   },
   {
    "duration": 6,
    "start_time": "2022-03-27T16:34:40.330Z"
   },
   {
    "duration": 28,
    "start_time": "2022-03-27T16:34:42.106Z"
   },
   {
    "duration": 29,
    "start_time": "2022-03-27T16:34:42.595Z"
   },
   {
    "duration": 27,
    "start_time": "2022-03-27T16:34:42.786Z"
   },
   {
    "duration": 13,
    "start_time": "2022-03-27T16:34:43.488Z"
   },
   {
    "duration": 6,
    "start_time": "2022-03-27T16:34:52.507Z"
   },
   {
    "duration": 10,
    "start_time": "2022-03-27T16:34:53.682Z"
   },
   {
    "duration": 248,
    "start_time": "2022-03-27T16:34:57.238Z"
   },
   {
    "duration": 12,
    "start_time": "2022-03-27T16:35:14.122Z"
   },
   {
    "duration": 9309,
    "start_time": "2022-03-27T16:35:15.191Z"
   },
   {
    "duration": 5,
    "start_time": "2022-03-27T16:35:24.503Z"
   },
   {
    "duration": 4859,
    "start_time": "2022-03-27T16:35:24.511Z"
   },
   {
    "duration": 43,
    "start_time": "2022-03-27T16:35:29.404Z"
   },
   {
    "duration": 6583,
    "start_time": "2022-03-27T16:39:58.443Z"
   },
   {
    "duration": 21,
    "start_time": "2022-03-27T16:40:09.858Z"
   },
   {
    "duration": 196,
    "start_time": "2022-03-27T16:43:09.810Z"
   },
   {
    "duration": 662,
    "start_time": "2022-03-27T16:43:51.222Z"
   },
   {
    "duration": 246,
    "start_time": "2022-03-27T16:46:32.562Z"
   },
   {
    "duration": 18,
    "start_time": "2022-03-27T16:48:43.645Z"
   },
   {
    "duration": 28,
    "start_time": "2022-03-27T16:48:43.973Z"
   },
   {
    "duration": 4793,
    "start_time": "2022-03-27T16:48:44.413Z"
   },
   {
    "duration": 4,
    "start_time": "2022-03-27T16:48:49.210Z"
   },
   {
    "duration": 4059,
    "start_time": "2022-03-27T16:48:49.216Z"
   },
   {
    "duration": 23,
    "start_time": "2022-03-27T16:48:53.279Z"
   },
   {
    "duration": 44,
    "start_time": "2022-03-27T16:49:51.297Z"
   },
   {
    "duration": 26,
    "start_time": "2022-03-27T16:51:05.813Z"
   },
   {
    "duration": 14,
    "start_time": "2022-03-27T16:51:15.109Z"
   },
   {
    "duration": 3,
    "start_time": "2022-03-27T17:29:09.032Z"
   },
   {
    "duration": 4,
    "start_time": "2022-03-27T17:29:09.609Z"
   },
   {
    "duration": 4,
    "start_time": "2022-03-27T17:29:11.831Z"
   },
   {
    "duration": 4730,
    "start_time": "2022-03-27T17:29:13.692Z"
   },
   {
    "duration": 36,
    "start_time": "2022-03-27T17:29:18.425Z"
   },
   {
    "duration": 1227,
    "start_time": "2022-03-27T17:29:47.724Z"
   },
   {
    "duration": 20,
    "start_time": "2022-03-27T17:29:49.207Z"
   },
   {
    "duration": 991,
    "start_time": "2022-03-27T17:30:09.012Z"
   },
   {
    "duration": 18,
    "start_time": "2022-03-27T17:30:15.979Z"
   },
   {
    "duration": 26,
    "start_time": "2022-03-27T17:30:17.504Z"
   },
   {
    "duration": 861,
    "start_time": "2022-03-27T17:30:39.816Z"
   },
   {
    "duration": 4883,
    "start_time": "2022-03-27T17:30:46.096Z"
   },
   {
    "duration": 25,
    "start_time": "2022-03-27T17:30:50.982Z"
   },
   {
    "duration": 24,
    "start_time": "2022-03-27T17:32:00.316Z"
   },
   {
    "duration": 16,
    "start_time": "2022-03-27T17:32:35.188Z"
   },
   {
    "duration": 3775,
    "start_time": "2022-03-27T17:32:49.560Z"
   },
   {
    "duration": 3824,
    "start_time": "2022-03-27T17:33:15.176Z"
   },
   {
    "duration": 6,
    "start_time": "2022-03-27T17:33:48.380Z"
   },
   {
    "duration": 13,
    "start_time": "2022-03-27T17:34:00.864Z"
   },
   {
    "duration": 12,
    "start_time": "2022-03-27T17:34:45.295Z"
   },
   {
    "duration": 16,
    "start_time": "2022-03-27T17:34:49.380Z"
   },
   {
    "duration": 21,
    "start_time": "2022-03-27T17:34:55.271Z"
   },
   {
    "duration": 48,
    "start_time": "2022-03-27T19:40:42.265Z"
   },
   {
    "duration": 414,
    "start_time": "2022-03-27T19:40:49.414Z"
   },
   {
    "duration": 84,
    "start_time": "2022-03-27T19:40:49.830Z"
   },
   {
    "duration": 12,
    "start_time": "2022-03-27T19:40:50.890Z"
   },
   {
    "duration": 14,
    "start_time": "2022-03-27T19:40:55.482Z"
   },
   {
    "duration": 31,
    "start_time": "2022-03-27T19:40:58.609Z"
   },
   {
    "duration": 11,
    "start_time": "2022-03-27T19:41:01.109Z"
   },
   {
    "duration": 4,
    "start_time": "2022-03-27T19:41:03.978Z"
   },
   {
    "duration": 6,
    "start_time": "2022-03-27T19:41:06.366Z"
   },
   {
    "duration": 10,
    "start_time": "2022-03-27T19:41:08.306Z"
   },
   {
    "duration": 20,
    "start_time": "2022-03-27T19:41:20.546Z"
   },
   {
    "duration": 14,
    "start_time": "2022-03-27T19:42:18.402Z"
   },
   {
    "duration": 4,
    "start_time": "2022-03-27T19:42:49.378Z"
   },
   {
    "duration": 4651,
    "start_time": "2022-03-27T19:42:50.481Z"
   },
   {
    "duration": 234,
    "start_time": "2022-03-27T19:42:57.530Z"
   },
   {
    "duration": 13,
    "start_time": "2022-03-27T19:42:58.569Z"
   },
   {
    "duration": 13,
    "start_time": "2022-03-27T19:44:47.310Z"
   },
   {
    "duration": 8,
    "start_time": "2022-03-27T19:44:51.174Z"
   },
   {
    "duration": 4,
    "start_time": "2022-03-27T19:45:03.130Z"
   },
   {
    "duration": 6,
    "start_time": "2022-03-27T19:49:01.661Z"
   },
   {
    "duration": 3,
    "start_time": "2022-03-27T19:50:43.801Z"
   },
   {
    "duration": 294,
    "start_time": "2022-03-27T19:50:44.229Z"
   },
   {
    "duration": 13,
    "start_time": "2022-03-27T19:53:04.709Z"
   },
   {
    "duration": 7,
    "start_time": "2022-03-27T19:53:26.517Z"
   },
   {
    "duration": 8,
    "start_time": "2022-03-27T19:53:36.557Z"
   },
   {
    "duration": 63,
    "start_time": "2022-03-27T19:54:12.017Z"
   },
   {
    "duration": 10,
    "start_time": "2022-03-27T19:54:18.301Z"
   },
   {
    "duration": 7,
    "start_time": "2022-03-27T19:54:22.757Z"
   },
   {
    "duration": 8,
    "start_time": "2022-03-27T19:54:30.205Z"
   },
   {
    "duration": 10,
    "start_time": "2022-03-27T19:54:34.661Z"
   },
   {
    "duration": 10,
    "start_time": "2022-03-27T20:09:18.817Z"
   },
   {
    "duration": 10,
    "start_time": "2022-03-27T20:09:22.017Z"
   },
   {
    "duration": 11,
    "start_time": "2022-03-27T20:09:43.493Z"
   },
   {
    "duration": 13,
    "start_time": "2022-03-27T20:10:28.261Z"
   },
   {
    "duration": 10,
    "start_time": "2022-03-27T20:10:50.729Z"
   },
   {
    "duration": 64,
    "start_time": "2022-03-27T20:14:26.597Z"
   },
   {
    "duration": 95,
    "start_time": "2022-03-27T20:14:35.950Z"
   },
   {
    "duration": 12,
    "start_time": "2022-03-27T20:14:45.124Z"
   },
   {
    "duration": 13,
    "start_time": "2022-03-27T20:17:55.677Z"
   },
   {
    "duration": 11,
    "start_time": "2022-03-27T20:18:34.689Z"
   },
   {
    "duration": 124,
    "start_time": "2022-03-27T20:18:45.616Z"
   },
   {
    "duration": 134,
    "start_time": "2022-03-27T20:18:58.428Z"
   },
   {
    "duration": 14,
    "start_time": "2022-03-27T20:19:51.672Z"
   },
   {
    "duration": 7,
    "start_time": "2022-03-27T20:19:56.289Z"
   },
   {
    "duration": 9,
    "start_time": "2022-03-27T20:20:06.848Z"
   },
   {
    "duration": 13,
    "start_time": "2022-03-27T20:20:35.766Z"
   },
   {
    "duration": 9,
    "start_time": "2022-03-27T20:22:21.249Z"
   },
   {
    "duration": 8,
    "start_time": "2022-03-27T20:22:25.005Z"
   },
   {
    "duration": 9,
    "start_time": "2022-03-27T20:22:35.612Z"
   },
   {
    "duration": 10,
    "start_time": "2022-03-27T20:22:45.284Z"
   },
   {
    "duration": 17,
    "start_time": "2022-03-27T20:24:28.508Z"
   },
   {
    "duration": 18,
    "start_time": "2022-03-27T20:24:34.329Z"
   },
   {
    "duration": 13,
    "start_time": "2022-03-27T20:24:54.540Z"
   },
   {
    "duration": 18,
    "start_time": "2022-03-27T20:25:01.551Z"
   },
   {
    "duration": 7,
    "start_time": "2022-03-27T20:26:37.934Z"
   },
   {
    "duration": 7,
    "start_time": "2022-03-27T20:27:23.716Z"
   },
   {
    "duration": 7,
    "start_time": "2022-03-27T20:27:35.601Z"
   },
   {
    "duration": 7,
    "start_time": "2022-03-27T20:27:45.476Z"
   },
   {
    "duration": 2,
    "start_time": "2022-03-27T20:27:52.984Z"
   },
   {
    "duration": 60,
    "start_time": "2022-03-27T20:27:53.144Z"
   },
   {
    "duration": 12,
    "start_time": "2022-03-27T20:27:53.289Z"
   },
   {
    "duration": 15,
    "start_time": "2022-03-27T20:27:53.648Z"
   },
   {
    "duration": 30,
    "start_time": "2022-03-27T20:27:53.828Z"
   },
   {
    "duration": 11,
    "start_time": "2022-03-27T20:27:54.777Z"
   },
   {
    "duration": 4,
    "start_time": "2022-03-27T20:27:56.244Z"
   },
   {
    "duration": 6,
    "start_time": "2022-03-27T20:27:58.876Z"
   },
   {
    "duration": 10,
    "start_time": "2022-03-27T20:27:59.380Z"
   },
   {
    "duration": 12,
    "start_time": "2022-03-27T20:28:01.172Z"
   },
   {
    "duration": 3,
    "start_time": "2022-03-27T20:28:01.928Z"
   },
   {
    "duration": 4814,
    "start_time": "2022-03-27T20:28:03.480Z"
   },
   {
    "duration": 16,
    "start_time": "2022-03-27T20:28:08.296Z"
   },
   {
    "duration": 13,
    "start_time": "2022-03-27T20:28:08.314Z"
   },
   {
    "duration": 8,
    "start_time": "2022-03-27T20:28:08.329Z"
   },
   {
    "duration": 6,
    "start_time": "2022-03-27T20:28:08.339Z"
   },
   {
    "duration": 21,
    "start_time": "2022-03-27T20:28:08.346Z"
   },
   {
    "duration": 45,
    "start_time": "2022-03-27T20:28:08.368Z"
   },
   {
    "duration": 17,
    "start_time": "2022-03-27T20:28:08.415Z"
   },
   {
    "duration": 5,
    "start_time": "2022-03-27T20:28:08.685Z"
   },
   {
    "duration": 7,
    "start_time": "2022-03-27T20:28:09.828Z"
   },
   {
    "duration": 138,
    "start_time": "2022-03-27T20:28:10.808Z"
   },
   {
    "duration": 9,
    "start_time": "2022-03-27T20:28:12.160Z"
   },
   {
    "duration": 3,
    "start_time": "2022-03-27T20:28:12.380Z"
   },
   {
    "duration": 234,
    "start_time": "2022-03-27T20:28:12.576Z"
   },
   {
    "duration": 0,
    "start_time": "2022-03-27T20:28:12.812Z"
   },
   {
    "duration": 11,
    "start_time": "2022-03-27T20:28:17.652Z"
   },
   {
    "duration": 6,
    "start_time": "2022-03-27T20:28:22.084Z"
   },
   {
    "duration": 6,
    "start_time": "2022-03-27T20:28:35.032Z"
   },
   {
    "duration": 13,
    "start_time": "2022-03-27T20:28:41.592Z"
   },
   {
    "duration": 12,
    "start_time": "2022-03-27T20:28:50.536Z"
   },
   {
    "duration": 12,
    "start_time": "2022-03-27T20:29:06.777Z"
   },
   {
    "duration": 13,
    "start_time": "2022-03-27T20:29:14.408Z"
   },
   {
    "duration": 15,
    "start_time": "2022-03-27T20:29:20.757Z"
   },
   {
    "duration": 3,
    "start_time": "2022-03-27T21:34:42.666Z"
   },
   {
    "duration": 62,
    "start_time": "2022-03-27T21:34:42.882Z"
   },
   {
    "duration": 14,
    "start_time": "2022-03-27T21:34:43.094Z"
   },
   {
    "duration": 16,
    "start_time": "2022-03-27T21:34:43.907Z"
   },
   {
    "duration": 30,
    "start_time": "2022-03-27T21:34:44.150Z"
   },
   {
    "duration": 11,
    "start_time": "2022-03-27T21:34:45.807Z"
   },
   {
    "duration": 4,
    "start_time": "2022-03-27T21:34:46.971Z"
   },
   {
    "duration": 7,
    "start_time": "2022-03-27T21:34:49.778Z"
   },
   {
    "duration": 9,
    "start_time": "2022-03-27T21:34:51.383Z"
   },
   {
    "duration": 12,
    "start_time": "2022-03-27T21:34:54.038Z"
   },
   {
    "duration": 3,
    "start_time": "2022-03-27T21:35:01.299Z"
   },
   {
    "duration": 4648,
    "start_time": "2022-03-27T21:35:04.746Z"
   },
   {
    "duration": 13,
    "start_time": "2022-03-27T21:35:09.396Z"
   },
   {
    "duration": 15,
    "start_time": "2022-03-27T21:35:09.411Z"
   },
   {
    "duration": 8,
    "start_time": "2022-03-27T21:35:09.428Z"
   },
   {
    "duration": 4,
    "start_time": "2022-03-27T21:35:13.587Z"
   },
   {
    "duration": 20,
    "start_time": "2022-03-27T21:35:15.059Z"
   },
   {
    "duration": 20,
    "start_time": "2022-03-27T21:35:16.671Z"
   },
   {
    "duration": 17,
    "start_time": "2022-03-27T21:35:16.911Z"
   },
   {
    "duration": 5,
    "start_time": "2022-03-27T21:35:21.743Z"
   },
   {
    "duration": 7,
    "start_time": "2022-03-27T21:35:22.598Z"
   },
   {
    "duration": 131,
    "start_time": "2022-03-27T21:35:24.707Z"
   },
   {
    "duration": 9,
    "start_time": "2022-03-27T21:35:33.738Z"
   },
   {
    "duration": 2,
    "start_time": "2022-03-27T21:35:36.975Z"
   },
   {
    "duration": 253,
    "start_time": "2022-03-27T21:35:38.083Z"
   },
   {
    "duration": 269,
    "start_time": "2022-03-27T21:35:58.435Z"
   },
   {
    "duration": 9,
    "start_time": "2022-03-27T21:36:24.451Z"
   },
   {
    "duration": 10,
    "start_time": "2022-03-27T22:08:08.617Z"
   },
   {
    "duration": 10,
    "start_time": "2022-03-27T22:08:30.840Z"
   },
   {
    "duration": 7,
    "start_time": "2022-03-27T22:09:01.753Z"
   },
   {
    "duration": 11,
    "start_time": "2022-03-27T22:09:16.665Z"
   },
   {
    "duration": 13,
    "start_time": "2022-03-27T22:09:24.652Z"
   },
   {
    "duration": 9,
    "start_time": "2022-03-27T22:09:51.848Z"
   },
   {
    "duration": 7585,
    "start_time": "2022-03-27T22:15:31.434Z"
   },
   {
    "duration": 0,
    "start_time": "2022-03-27T22:15:39.022Z"
   },
   {
    "duration": 7443,
    "start_time": "2022-03-27T22:15:58.534Z"
   },
   {
    "duration": 13,
    "start_time": "2022-03-27T22:16:18.574Z"
   },
   {
    "duration": 7624,
    "start_time": "2022-03-27T22:19:08.339Z"
   },
   {
    "duration": 7364,
    "start_time": "2022-03-27T22:19:22.366Z"
   },
   {
    "duration": 7495,
    "start_time": "2022-03-27T22:19:43.631Z"
   },
   {
    "duration": 7448,
    "start_time": "2022-03-27T22:20:44.655Z"
   },
   {
    "duration": 12,
    "start_time": "2022-03-27T22:20:58.268Z"
   },
   {
    "duration": 10,
    "start_time": "2022-03-27T22:26:22.202Z"
   }
  ],
  "kernelspec": {
   "display_name": "Python 3 (ipykernel)",
   "language": "python",
   "name": "python3"
  },
  "language_info": {
   "codemirror_mode": {
    "name": "ipython",
    "version": 3
   },
   "file_extension": ".py",
   "mimetype": "text/x-python",
   "name": "python",
   "nbconvert_exporter": "python",
   "pygments_lexer": "ipython3",
   "version": "3.9.5"
  },
  "toc": {
   "base_numbering": 1,
   "nav_menu": {},
   "number_sections": true,
   "sideBar": true,
   "skip_h1_title": true,
   "title_cell": "Table of Contents",
   "title_sidebar": "Contents",
   "toc_cell": false,
   "toc_position": {},
   "toc_section_display": true,
   "toc_window_display": false
  }
 },
 "nbformat": 4,
 "nbformat_minor": 5
}
